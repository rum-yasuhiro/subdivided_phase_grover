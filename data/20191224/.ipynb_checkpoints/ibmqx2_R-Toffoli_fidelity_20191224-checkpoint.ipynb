{
 "cells": [
  {
   "cell_type": "markdown",
   "metadata": {},
   "source": [
    "# R C3X fidelity check\n",
    "\n",
    "23 Dec 2019\n",
    "\n",
    "origined by rum\n",
    "\n",
    "---\n",
    "In this code, two types of R-Toffoli gate are checked fidelity on real device"
   ]
  },
  {
   "cell_type": "code",
   "execution_count": null,
   "metadata": {},
   "outputs": [],
   "source": [
    "## import tools\n",
    "## Import numpy \n",
    "import numpy as np\n",
    "from numpy import pi\n",
    "\n",
    "## import plot tools\n",
    "import matplotlib.pyplot as plt\n",
    "import matplotlib.cm as cm\n",
    "## To plot heatmap\n",
    "import seaborn as sns\n",
    "\n",
    "## import datetime\n",
    "from datetime import datetime\n",
    "\n",
    "## Import qiskit tools\n",
    "from qiskit import QuantumRegister, ClassicalRegister, QuantumCircuit, execute, Aer, IBMQ\n",
    "from qiskit.tools.visualization import plot_histogram\n",
    "from qiskit.tools.monitor import job_monitor\n",
    "\n",
    "## import qiskit backend monitor\n",
    "from  qiskit.tools.monitor import backend_monitor\n",
    "\n",
    "## import qiskit readout error mitigation tools\n",
    "from qiskit.ignis.mitigation.measurement import (complete_meas_cal, CompleteMeasFitter)"
   ]
  },
  {
   "cell_type": "markdown",
   "metadata": {},
   "source": [
    "---\n",
    "# 1. Get device"
   ]
  },
  {
   "cell_type": "code",
   "execution_count": null,
   "metadata": {},
   "outputs": [],
   "source": [
    "IBMQ.load_account()"
   ]
  },
  {
   "cell_type": "markdown",
   "metadata": {},
   "source": [
    "### Here to choose provider"
   ]
  },
  {
   "cell_type": "code",
   "execution_count": null,
   "metadata": {},
   "outputs": [],
   "source": [
    "## keio-internal device\n",
    "provider = IBMQ.get_provider(hub='ibm-q-keio', group='keio-internal', project='keio-students')\n",
    "\n",
    "## reservations\n",
    "# provider = IBMQ.get_provider(hub='ibm-q-keio', group='keio-internal', project='reservations')\n",
    "\n",
    "## open device\n",
    "# provider = IBMQ.get_provider(hub='ibm-q', group='open', project='main')"
   ]
  },
  {
   "cell_type": "markdown",
   "metadata": {},
   "source": [
    "### Define the backend device"
   ]
  },
  {
   "cell_type": "code",
   "execution_count": null,
   "metadata": {},
   "outputs": [],
   "source": [
    "device = provider.get_backend(\"ibmq_ourense\")"
   ]
  },
  {
   "cell_type": "markdown",
   "metadata": {},
   "source": [
    "---\n",
    "# 2. Define circuit"
   ]
  },
  {
   "cell_type": "markdown",
   "metadata": {},
   "source": [
    "### 2-1. Define R-Toffoli as function"
   ]
  },
  {
   "cell_type": "markdown",
   "metadata": {},
   "source": [
    "---\n",
    "### R-Toffoli_m\n",
    "<img src=\"../img/RToffoli_m.png\" />"
   ]
  },
  {
   "cell_type": "code",
   "execution_count": null,
   "metadata": {},
   "outputs": [],
   "source": [
    "## define RTof function\n",
    "def RTof_m(qc, c1, c2, t):\n",
    "    qc.ry(pi/4, t)\n",
    "    qc.cx(c2, t)\n",
    "    qc.ry(pi/4, t)\n",
    "    qc.cx(c1, t)\n",
    "    qc.ry(-pi/4, t)\n",
    "    qc.cx(c2, t)\n",
    "    qc.ry(-pi/4, t)"
   ]
  },
  {
   "cell_type": "markdown",
   "metadata": {},
   "source": [
    "---\n",
    "### R-Toffoli_ix\n",
    "<img src=\"../img/RToffoli_ix.png\" />"
   ]
  },
  {
   "cell_type": "code",
   "execution_count": null,
   "metadata": {},
   "outputs": [],
   "source": [
    "def RTof_ix(qc, c1, c2, t):\n",
    "#     qc.h(t)\n",
    "#     qc.t(t)\n",
    "    qc.u2(pi/4, pi, t)\n",
    "    qc.cx(c2, t)\n",
    "    qc.tdg(t)\n",
    "    qc.cx(c1, t)\n",
    "    qc.t(t)\n",
    "    qc.cx(c2, t)\n",
    "#     qc.tdg(t)\n",
    "#     qc.h(t)\n",
    "    qc.u2(0, 3*pi/4, t)"
   ]
  },
  {
   "cell_type": "markdown",
   "metadata": {},
   "source": [
    "---\n",
    "### Toffoli gate with one swap\n",
    "<img src = \"../img/Toffoli_SWAP.png\" />"
   ]
  },
  {
   "cell_type": "code",
   "execution_count": null,
   "metadata": {},
   "outputs": [],
   "source": [
    "## Toffoli gate with one swap\n",
    "def Toffoli_SWAP(circuit, control1,  control2, target):\n",
    "    \n",
    "    \"\"\"\n",
    "    c1, c2, t => c1, t, c2\n",
    "    \"\"\"\n",
    "    \n",
    "    circuit.h(target)\n",
    "    circuit.cx(control1, target)\n",
    "    circuit.tdg(target)\n",
    "    circuit.cx(control2, target)\n",
    "    circuit.t(target)\n",
    "    circuit.cx(control1, target)\n",
    "    circuit.tdg(target)\n",
    "    circuit.cx(target, control2) ## SWAP\n",
    "    circuit.cx(control2, target) ## SWAP\n",
    "    circuit.t(control1)\n",
    "    circuit.t(control2)\n",
    "    circuit.cx(target ,control1)\n",
    "    circuit.tdg(control1)\n",
    "    circuit.h(control2)\n",
    "    circuit.t(target)\n",
    "    circuit.cx(target, control1)"
   ]
  },
  {
   "cell_type": "markdown",
   "metadata": {},
   "source": [
    "### 2-2. Compose circuit"
   ]
  },
  {
   "cell_type": "code",
   "execution_count": null,
   "metadata": {},
   "outputs": [],
   "source": [
    "## define qubit label as num_qubits\n",
    "num_qubits = len(device.configuration().gates[0].coupling_map)\n",
    "\n",
    "\n",
    "## Define the list to store the circuit lists of each qubits of the processor\n",
    "RTof_qc = []\n",
    "\n",
    "## define init_list\n",
    "init_list = [format(j, '03b') for j in range(8)]\n",
    "\n",
    "\n",
    "## define qubit\n",
    "c1, c2, targ = [0, 1, 2]"
   ]
  },
  {
   "cell_type": "code",
   "execution_count": 9,
   "metadata": {},
   "outputs": [],
   "source": [
    "## repeat circuit definition for each init_list\n",
    "for init in init_list:\n",
    "\n",
    "    ## define circuit\n",
    "    qr = QuantumRegister(3, \"q\")\n",
    "    cr = ClassicalRegister(3, \"c\")\n",
    "    circuit = QuantumCircuit(qr, cr)\n",
    "\n",
    "    ## Initialization\n",
    "    if(init[0] == '1'):\n",
    "        circuit.x(qr[c1])\n",
    "    if(init[1] == '1'):\n",
    "        circuit.x(qr[c2])\n",
    "    if(init[2] == '1'):\n",
    "        circuit.x(qr[int(targ)])\n",
    "\n",
    "    ## R-Tof_m\n",
    "    RTof_m(circuit, qr[c1], qr[c2], qr[targ])\n",
    "    \n",
    "    ## insert barrier between gates and measurement\n",
    "    circuit.barrier()\n",
    "\n",
    "    ## measure the qubit\n",
    "    circuit.measure(qr[c1], cr[2])\n",
    "    circuit.measure(qr[c2], cr[1])\n",
    "    circuit.measure(qr[targ], cr[0])\n",
    "\n",
    "    ## Append the circuit to the init_list_qc list\n",
    "    RTof_qc.append(circuit)"
   ]
  },
  {
   "cell_type": "code",
   "execution_count": 10,
   "metadata": {},
   "outputs": [],
   "source": [
    "## repeat circuit definition for each init_list\n",
    "for init in init_list:\n",
    "\n",
    "    ## define circuit\n",
    "    qr = QuantumRegister(3, \"q\")\n",
    "    cr = ClassicalRegister(3, \"c\")\n",
    "    circuit = QuantumCircuit(qr, cr)\n",
    "\n",
    "    ## Initialization\n",
    "    if(init[0] == '1'):\n",
    "        circuit.x(qr[c1])\n",
    "    if(init[1] == '1'):\n",
    "        circuit.x(qr[c2])\n",
    "    if(init[2] == '1'):\n",
    "        circuit.x(qr[int(targ)])\n",
    "\n",
    "    ## R-Tof_m\n",
    "    RTof_ix(circuit, qr[c1], qr[c2], qr[targ])\n",
    "    \n",
    "    ## insert barrier between gates and measurement\n",
    "    circuit.barrier()\n",
    "\n",
    "    ## measure the qubit\n",
    "    circuit.measure(qr[c1], cr[2])\n",
    "    circuit.measure(qr[c2], cr[1])\n",
    "    circuit.measure(qr[targ], cr[0])\n",
    "\n",
    "    ## Append the circuit to the init_list_qc list\n",
    "    RTof_qc.append(circuit)"
   ]
  },
  {
   "cell_type": "code",
   "execution_count": 11,
   "metadata": {},
   "outputs": [],
   "source": [
    "RTof_qc[0].draw()"
   ]
  },
  {
   "cell_type": "markdown",
   "metadata": {},
   "source": [
    "---\n",
    "# 3. Run on QASM simulator"
   ]
  },
  {
   "cell_type": "markdown",
   "metadata": {},
   "source": [
    "### 3-1. Execution"
   ]
  },
  {
   "cell_type": "code",
   "execution_count": 12,
   "metadata": {
    "scrolled": true
   },
   "outputs": [],
   "source": [
    "## define simulator\n",
    "simulator = Aer.get_backend(\"qasm_simulator\")\n",
    "\n",
    "## define shots\n",
    "shots = 8192\n",
    "\n",
    "## define repeat length\n",
    "in_len = len(init_list)\n",
    "\n",
    "## define job\n",
    "job_sim = execute(RTof_qc, backend = simulator, shots = shots)\n",
    "result_sim = job_sim.result()\n",
    "\n",
    "\n",
    "## define the list to imidiately store the counts of the each circuit\n",
    "## repeat # of each angle circuits times\n",
    "counts_sim_m = [result_sim.get_counts(init) for init in range(in_len)]\n",
    "counts_sim_ix = [result_sim.get_counts(init) for init in range(in_len, 2*in_len)]"
   ]
  },
  {
   "cell_type": "code",
   "execution_count": 13,
   "metadata": {},
   "outputs": [],
   "source": [
    "print('counts_sim_m = ', counts_sim_m)"
   ]
  },
  {
   "cell_type": "code",
   "execution_count": 14,
   "metadata": {},
   "outputs": [],
   "source": [
    "print('counts_sim_ix = ', counts_sim_ix)"
   ]
  },
  {
   "cell_type": "markdown",
   "metadata": {},
   "source": [
    "### 3-2. Plot the result"
   ]
  },
  {
   "cell_type": "code",
   "execution_count": 15,
   "metadata": {},
   "outputs": [],
   "source": [
    "## define length of repeat\n",
    "input_len = len(counts_sim_m)\n",
    "output_bin = [format(num, '03b') for num in range(8)]\n",
    "\n",
    "\n",
    "sim_m_data = [[(counts_sim_m[inputvalue].get(outputvalue, 0))/shots for outputvalue in output_bin] for inputvalue in range(input_len)]\n",
    "sim_ix_data = [[(counts_sim_ix[inputvalue].get(outputvalue, 0))/shots for outputvalue in output_bin] for inputvalue in range(input_len)]"
   ]
  },
  {
   "cell_type": "code",
   "execution_count": 16,
   "metadata": {},
   "outputs": [
    {
     "name": "stdout",
     "output_type": "stream",
     "text": [
      "[[1.0, 0.0, 0.0, 0.0, 0.0, 0.0, 0.0, 0.0], [0.0, 1.0, 0.0, 0.0, 0.0, 0.0, 0.0, 0.0], [0.0, 0.0, 1.0, 0.0, 0.0, 0.0, 0.0, 0.0], [0.0, 0.0, 0.0, 1.0, 0.0, 0.0, 0.0, 0.0], [0.0, 0.0, 0.0, 0.0, 1.0, 0.0, 0.0, 0.0], [0.0, 0.0, 0.0, 0.0, 0.0, 1.0, 0.0, 0.0], [0.0, 0.0, 0.0, 0.0, 0.0, 0.0, 0.0, 1.0], [0.0, 0.0, 0.0, 0.0, 0.0, 0.0, 1.0, 0.0]]\n"
     ]
    }
   ],
   "source": [
    "print(sim_m_data)"
   ]
  },
  {
   "cell_type": "code",
   "execution_count": 17,
   "metadata": {
    "scrolled": true
   },
   "outputs": [
    {
     "name": "stdout",
     "output_type": "stream",
     "text": [
      "########################## R-C3X_m ############################\n"
     ]
    },
    {
     "data": {
      "image/png": "[encoded data removed]",
      "text/plain": [
       "<Figure size 1296x864 with 2 Axes>"
      ]
     },
     "metadata": {
      "needs_background": "light"
     },
     "output_type": "display_data"
    },
    {
     "name": "stdout",
     "output_type": "stream",
     "text": [
      "########################## R-C3X_ix ############################\n"
     ]
    },
    {
     "data": {
      "image/png": "[encoded data removed]",
      "text/plain": [
       "<Figure size 1296x864 with 2 Axes>"
      ]
     },
     "metadata": {
      "needs_background": "light"
     },
     "output_type": "display_data"
    }
   ],
   "source": [
    "print(\"########################## R-C3X_m ############################\")\n",
    "\n",
    "## axix range and data labels\n",
    "### axix range\n",
    "length=[num+0.5 for num in range(8)]\n",
    "### labels \n",
    "X = [format(num, \"03b\") for num in range(8)]\n",
    "Y = X\n",
    "#######################################################################\n",
    "## set size\n",
    "fig,ax = plt.subplots(figsize=(18, 12))\n",
    "## title\n",
    "plt.title(\"R-C3X_m on \"+str(simulator)+\"\\n\", \n",
    "          fontsize=20\n",
    "         )\n",
    "\n",
    "## plot data\n",
    "sns.heatmap(sim_m_data, \n",
    "            vmin = 0.0,  ## define maximum value\n",
    "            vmax=1.0,   ## defnie minimum value\n",
    "            annot=True, ## show the numerical data\n",
    "            square=True,  ## set heatmap to square shape\n",
    "            cmap=plt.get_cmap('Blues') ## define the color\n",
    "           )\n",
    "\n",
    "## axis\n",
    "plt.xticks(length, \n",
    "           X, \n",
    "           rotation=90, \n",
    "           fontsize=15\n",
    "          )\n",
    "plt.yticks(length, \n",
    "           Y, \n",
    "           rotation=0, \n",
    "           fontsize=15)\n",
    "\n",
    "plt.show()\n",
    "\n",
    "print(\"########################## R-C3X_ix ############################\")\n",
    "\n",
    "## axix range and data labels\n",
    "### axix range\n",
    "length=[num+0.5 for num in range(8)]\n",
    "### labels \n",
    "X = [format(num, \"03b\") for num in range(8)]\n",
    "Y = X\n",
    "#######################################################################\n",
    "## set size\n",
    "fig,ax = plt.subplots(figsize=(18, 12))\n",
    "## title\n",
    "plt.title(\"R-C3X_ix on \"+str(simulator)+\"\\n\", \n",
    "          fontsize=20\n",
    "         )\n",
    "\n",
    "## plot data\n",
    "sns.heatmap(sim_ix_data, \n",
    "            vmin = 0.0,  ## define maximum value\n",
    "            vmax=1.0,   ## defnie minimum value\n",
    "            annot=True, ## show the numerical data\n",
    "            square=True,  ## set heatmap to square shape\n",
    "            cmap=plt.get_cmap('Blues') ## define the color\n",
    "           )\n",
    "\n",
    "## axis\n",
    "plt.xticks(length, \n",
    "           X, \n",
    "           rotation=90, \n",
    "           fontsize=15\n",
    "          )\n",
    "plt.yticks(length, \n",
    "           Y, \n",
    "           rotation=0, \n",
    "           fontsize=15)\n",
    "\n",
    "plt.show()"
   ]
  },
  {
   "cell_type": "markdown",
   "metadata": {},
   "source": [
    "---\n",
    "# 4. Run on Realdevice"
   ]
  },
  {
   "cell_type": "code",
   "execution_count": 18,
   "metadata": {},
   "outputs": [
    {
     "name": "stdout",
     "output_type": "stream",
     "text": [
      "ibmq_ourense\n",
      "============\n",
      "Configuration\n",
      "-------------\n",
      "    n_qubits: 5\n",
      "    operational: True\n",
      "    status_msg: active\n",
      "    pending_jobs: 140\n",
      "    backend_version: 1.0.1\n",
      "    basis_gates: ['u1', 'u2', 'u3', 'cx', 'id']\n",
      "    local: False\n",
      "    simulator: False\n",
      "    memory: True\n",
      "    allow_q_circuit: False\n",
      "    allow_object_storage: True\n",
      "    backend_name: ibmq_ourense\n",
      "    max_experiments: 75\n",
      "    coupling_map: [[0, 1], [1, 0], [1, 2], [1, 3], [2, 1], [3, 1], [3, 4], [4, 3]]\n",
      "    allow_q_object: True\n",
      "    url: None\n",
      "    max_shots: 8192\n",
      "    credits_required: True\n",
      "    n_registers: 1\n",
      "    quantum_volume: 8\n",
      "    conditional: False\n",
      "    open_pulse: False\n",
      "    sample_name: Giraffe\n",
      "    description: 5 qubit device Ourense\n",
      "    online_date: 2019-07-03T04:00:00+00:00\n",
      "\n",
      "Qubits [Name / Freq / T1 / T2 / U1 err / U2 err / U3 err / Readout err]\n",
      "-----------------------------------------------------------------------\n",
      "    Q0 / 4.81948 GHz / 86.9743 µs / 83.57201 µs / 0.0 / 0.00032 / 0.00065 / 0.019\n",
      "    Q1 / 4.89123 GHz / 80.74727 µs / 37.09871 µs / 0.0 / 0.00033 / 0.00065 / 0.022\n",
      "    Q2 / 4.71685 GHz / 115.47042 µs / 113.29243 µs / 0.0 / 0.00024 / 0.00047 / 0.014\n",
      "    Q3 / 4.78905 GHz / 44.90226 µs / 44.39706 µs / 0.0 / 0.00108 / 0.00217 / 0.02\n",
      "    Q4 / 5.02368 GHz / 90.98073 µs / 36.49357 µs / 0.0 / 0.00043 / 0.00086 / 0.029\n",
      "\n",
      "Multi-Qubit Gates [Name / Type / Gate Error]\n",
      "--------------------------------------------\n",
      "    cx0_1 / cx / 0.00623\n",
      "    cx1_0 / cx / 0.00623\n",
      "    cx1_2 / cx / 0.00709\n",
      "    cx1_3 / cx / 0.01268\n",
      "    cx2_1 / cx / 0.00709\n",
      "    cx3_1 / cx / 0.01268\n",
      "    cx3_4 / cx / 0.01325\n",
      "    cx4_3 / cx / 0.01325\n"
     ]
    }
   ],
   "source": [
    "backend_monitor(device)"
   ]
  },
  {
   "cell_type": "markdown",
   "metadata": {},
   "source": [
    "### 4-1. finding the qubit mapping list"
   ]
  },
  {
   "cell_type": "code",
   "execution_count": 19,
   "metadata": {},
   "outputs": [
    {
     "name": "stdout",
     "output_type": "stream",
     "text": [
      "[[0, 1], [1, 0], [1, 2], [1, 3], [2, 1], [3, 1], [3, 4], [4, 3]]\n"
     ]
    }
   ],
   "source": [
    "## Get qubit coupling map\n",
    "conf = device.configuration()\n",
    "coupling_map = conf.coupling_map\n",
    "print(coupling_map)"
   ]
  },
  {
   "cell_type": "code",
   "execution_count": 20,
   "metadata": {},
   "outputs": [
    {
     "name": "stdout",
     "output_type": "stream",
     "text": [
      "qubit_mapping =  [[0, 2, 1], [0, 3, 1], [2, 0, 1], [2, 3, 1], [3, 0, 1], [3, 2, 1], [1, 4, 3], [4, 1, 3]]\n"
     ]
    }
   ],
   "source": [
    "## searching the qubit mapping list from coupling_map\n",
    "#\n",
    "#\n",
    "import numpy as np\n",
    "from collections import Counter\n",
    "from copy import copy\n",
    "\n",
    "## get qubit coupling_map from configuraion\n",
    "conf=device.configuration()\n",
    "coupling_map = conf.coupling_map\n",
    "\n",
    "\n",
    "hub_list = []\n",
    "adj_qubit_list=[]\n",
    "qubit_mapping=[]\n",
    "\n",
    "## finding hubs of mapping\n",
    "counter = Counter(np.ravel(coupling_map))\n",
    "for qubit, cnt in counter.most_common():\n",
    "#     print(qubit, \":\", cnt)\n",
    "    if(cnt>=4):\n",
    "        hub_list.append([qubit]) \n",
    "\n",
    "## finding the adjacency qubits of hub-qubit\n",
    "for hub in hub_list:\n",
    "    adj_list=[]\n",
    "    for con in range(len(coupling_map)):\n",
    "        if(coupling_map[con][0]==hub[0]):\n",
    "            adj = coupling_map[con][1]\n",
    "            \n",
    "            ## append adjacency qubit\n",
    "            adj_list.append(adj)\n",
    "    adj_qubit_list.append([hub[0], adj_list])\n",
    "# print(adj_qubit_list)\n",
    "\n",
    "## sorting the arrangement\n",
    "for hub in adj_qubit_list:\n",
    "    for c1 in range(len(hub[1])):\n",
    "        for c2 in range(len(hub[1])):\n",
    "            if hub[1][c2] != hub[1][c1]:\n",
    "                mapping = []\n",
    "                mapping.append(hub[1][c1])\n",
    "                mapping.append(hub[1][c2])\n",
    "                mapping.append(hub[0])\n",
    "#                 print(mapping)\n",
    "                \n",
    "                qubit_mapping.append(mapping)\n",
    "        \n",
    "print(\"qubit_mapping = \", qubit_mapping)"
   ]
  },
  {
   "cell_type": "markdown",
   "metadata": {},
   "source": [
    "### 4-2. Define mitigation circuit"
   ]
  },
  {
   "cell_type": "code",
   "execution_count": 21,
   "metadata": {},
   "outputs": [],
   "source": [
    "qr = QuantumRegister(3)\n",
    "meas_calibs, state_labels = complete_meas_cal(qr=qr, circlabel='mcal')"
   ]
  },
  {
   "cell_type": "code",
   "execution_count": 22,
   "metadata": {},
   "outputs": [
    {
     "name": "stdout",
     "output_type": "stream",
     "text": [
      "[<qiskit.circuit.quantumcircuit.QuantumCircuit object at 0x1a2b02c5c0>, <qiskit.circuit.quantumcircuit.QuantumCircuit object at 0x1a2b02c668>, <qiskit.circuit.quantumcircuit.QuantumCircuit object at 0x1a2b02c7f0>, <qiskit.circuit.quantumcircuit.QuantumCircuit object at 0x1a2b02c9b0>, <qiskit.circuit.quantumcircuit.QuantumCircuit object at 0x1a2b02c940>, <qiskit.circuit.quantumcircuit.QuantumCircuit object at 0x1a2b02cba8>, <qiskit.circuit.quantumcircuit.QuantumCircuit object at 0x1a2b02c278>, <qiskit.circuit.quantumcircuit.QuantumCircuit object at 0x1a2b02c2b0>]\n",
      "['000', '001', '010', '011', '100', '101', '110', '111']\n"
     ]
    }
   ],
   "source": [
    "print(meas_calibs)\n",
    "print(state_labels)"
   ]
  },
  {
   "cell_type": "markdown",
   "metadata": {},
   "source": [
    "### 4-3. Execution"
   ]
  },
  {
   "cell_type": "code",
   "execution_count": 24,
   "metadata": {},
   "outputs": [
    {
     "name": "stdout",
     "output_type": "stream",
     "text": [
      "sent the job [0, 2, 1]\n",
      "sent the cal_job [0, 2, 1]\n",
      "sent the job [0, 3, 1]\n",
      "sent the cal_job [0, 3, 1]\n",
      "sent the job [2, 0, 1]\n",
      "sent the cal_job [2, 0, 1]\n",
      "sent the job [2, 3, 1]\n",
      "sent the cal_job [2, 3, 1]\n",
      "sent the job [3, 0, 1]\n",
      "sent the cal_job [3, 0, 1]\n",
      "sent the job [3, 2, 1]\n",
      "sent the cal_job [3, 2, 1]\n",
      "sent the job [1, 4, 3]\n",
      "sent the cal_job [1, 4, 3]\n",
      "sent the job [4, 1, 3]\n",
      "sent the cal_job [4, 1, 3]\n",
      "job_id_list =  ['5e01cd4e27f7840012679bc3', '5e01cd55619aa80011ca5f17', '5e01cd5a27f7840012679bc4', '5e01cd5e2b1101001312bfcd', '5e01cd6376be6000126d8cab', '5e01cd672b1101001312bfcf', '5e01cd6cc3b5500011d5315c', '5e01cd7131ea3200124695d9']\n",
      "cal_job_id_list =  ['5e01cd52619aa80011ca5f16', '5e01cd57619aa80011ca5f18', '5e01cd5c03bd6f001205b9fe', '5e01cd6103bd6f001205ba00', '5e01cd65c3b5500011d5315b', '5e01cd6903bd6f001205ba02', '5e01cd6ec3b5500011d5315e', '5e01cd7327f7840012679bc6']\n"
     ]
    }
   ],
   "source": [
    "## define shots\n",
    "shots = 8192\n",
    "\n",
    "## define the lists to store job_id\n",
    "job_id_list = []\n",
    "cal_job_id_list = []\n",
    "\n",
    "## repeat # of qubit_mapping times\n",
    "for mapping in qubit_mapping:\n",
    "    \n",
    "    ## job for circuit execution\n",
    "    job_exp = execute(RTof_qc,\n",
    "                      backend = device, \n",
    "                      shots = shots,\n",
    "                      initial_layout=mapping,\n",
    "                      optimization_level = 0\n",
    "                     )\n",
    "    job_id_list.append(job_exp.job_id())\n",
    "    print('sent the job', mapping)\n",
    "\n",
    "    \n",
    "    ## job for meas_cal\n",
    "    cal_job = execute(meas_calibs, \n",
    "                    backend = device,\n",
    "                    shots=shots,\n",
    "                    initial_layout=mapping,\n",
    "                    optimization_level=0\n",
    "                    )\n",
    "    cal_job_id_list.append(cal_job.job_id())\n",
    "    print('sent the cal_job', mapping)\n",
    "    \n",
    "#     ## get results\n",
    "#     result_exp = job_exp.result()\n",
    "#     result_cal = cal_job.result()\n",
    "    \n",
    "#     result_exp_list.append(result_exp)\n",
    "#     result_cal_exp_list.append(result_cal)\n",
    "\n",
    "print('job_id_list = ', job_id_list)\n",
    "print('cal_job_id_list = ', cal_job_id_list)"
   ]
  },
  {
   "cell_type": "markdown",
   "metadata": {},
   "source": [
    "### 4-4. retrieve the job and get the result"
   ]
  },
  {
   "cell_type": "code",
   "execution_count": null,
   "metadata": {
    "scrolled": true
   },
   "outputs": [],
   "source": [
    "        ## Define the list to store the result_exp for error mitigation\n",
    "result_exp_list = []\n",
    "result_cal_exp_list = []\n",
    "\n",
    "for job_id, cal_job_id in zip(job_id_list, cal_job_id_list) :\n",
    "    ## retrieve jobs\n",
    "    retrieved_job = device.retrieve_job(job_id)\n",
    "    retrieved_cal_job = device.retrieve_job(cal_job_id)\n",
    "    print(\"jobs were retrieved\")\n",
    "    result_exp = retrieved_job.result()\n",
    "    print(\"got exp result\")\n",
    "    result_cal_exp = retrieved_cal_job.result()\n",
    "    print(\"got cal_exp result\")\n",
    "    ## Append results_exp to the result_exp_list for error mitigation operation\n",
    "    result_exp_list.append(result_exp)\n",
    "    result_cal_exp_list.append(result_cal_exp)\n",
    "\n",
    "print(result_exp_list)\n",
    "print(result_cal_exp_list)"
   ]
  },
  {
   "cell_type": "markdown",
   "metadata": {},
   "source": [
    "# Readout Error mitigation"
   ]
  },
  {
   "cell_type": "code",
   "execution_count": null,
   "metadata": {
    "scrolled": true
   },
   "outputs": [],
   "source": [
    "meas_fitter_list = []\n",
    "\n",
    "for result_cal_exp in result_cal_exp_list:\n",
    "    \n",
    "    ## define measurement fitter\n",
    "    meas_fitter = CompleteMeasFitter(result_cal_exp, state_labels)\n",
    "    meas_fitter_list.append(meas_fitter)\n",
    "    \n",
    "    print(\"The calibration matrix \\n\")\n",
    "    print(meas_fitter.cal_matrix)\n",
    "\n",
    "    ## Plot the calibration matrix\n",
    "    print(\"Plot the calibration matrix (2D color grid plot)\\n\")\n",
    "    meas_fitter.plot_calibration()\n",
    "\n",
    "    ## The measurement fidelity\n",
    "    print(\"Average Measurement Fidelity: %f\" % meas_fitter.readout_fidelity(), \"\\n\")"
   ]
  },
  {
   "cell_type": "markdown",
   "metadata": {},
   "source": [
    "### Apply device calibration parameter to mitigate the result_exp"
   ]
  },
  {
   "cell_type": "code",
   "execution_count": null,
   "metadata": {},
   "outputs": [],
   "source": [
    "## define the list to store \n",
    "mitigated_m_list = []\n",
    "mitigated_ix_list = []\n",
    "\n",
    "## define repeat length\n",
    "in_len = len(init_list)\n",
    "\n",
    "## repeat (num_qubits) times\n",
    "for result_exp, meas_fitter in zip(result_exp_list, meas_fitter_list):\n",
    "    \n",
    "    # Get the filter object\n",
    "    meas_filter = meas_fitter.filter\n",
    "    \n",
    "    ## get measurement error mitigated result\n",
    "    mitigated_results = meas_filter.apply(result_exp)\n",
    "    mitigated_m_counts = [mitigated_results.get_counts(init) for init in range(in_len)]\n",
    "    mitigated_ix_counts = [mitigated_results.get_counts(init) for init in range(in_len, 2*in_len)]\n",
    "    \n",
    "    ## Append mitigated_counts to mitigated_list\n",
    "    mitigated_m_list.append(mitigated_m_counts)\n",
    "    mitigated_ix_list.append(mitigated_ix_counts)"
   ]
  },
  {
   "cell_type": "markdown",
   "metadata": {},
   "source": [
    "### Show the mitigated counts"
   ]
  },
  {
   "cell_type": "code",
   "execution_count": null,
   "metadata": {
    "scrolled": true
   },
   "outputs": [],
   "source": [
    "print(mitigated_m_counts)"
   ]
  },
  {
   "cell_type": "markdown",
   "metadata": {},
   "source": [
    "### post data processing"
   ]
  },
  {
   "cell_type": "code",
   "execution_count": null,
   "metadata": {},
   "outputs": [],
   "source": [
    "## define length of repeat\n",
    "input_len = len(mitigated_m_counts)\n",
    "output_bin = [format(num, '03b') for num in range(8)]\n",
    "\n",
    "\n",
    "mit_m_data = [[(mitigated_m_counts[inputvalue].get(outputvalue, 0))/shots for outputvalue in output_bin] for inputvalue in range(input_len)]\n",
    "mit_ix_data = [[(mitigated_ix_counts[inputvalue].get(outputvalue, 0))/shots for outputvalue in output_bin] for inputvalue in range(input_len)]"
   ]
  },
  {
   "cell_type": "markdown",
   "metadata": {},
   "source": [
    "### Plot the output matrix"
   ]
  },
  {
   "cell_type": "code",
   "execution_count": null,
   "metadata": {},
   "outputs": [],
   "source": [
    "print(\"########################## R-C3X_m ############################\")\n",
    "\n",
    "## axix range and data labels\n",
    "### axix range\n",
    "length=[num+0.5 for num in range(8)]\n",
    "### labels \n",
    "X = [format(num, \"03b\") for num in range(8)]\n",
    "Y = X\n",
    "#######################################################################\n",
    "## set size\n",
    "fig,ax = plt.subplots(figsize=(18, 12))\n",
    "## title\n",
    "plt.title(\"R-C3X_m on \"+str(simulator)+\"\\n\", \n",
    "          fontsize=20\n",
    "         )\n",
    "\n",
    "## plot data\n",
    "sns.heatmap(mit_m_data, \n",
    "            vmin = 0.0,  ## define maximum value\n",
    "            vmax=1.0,   ## defnie minimum value\n",
    "            annot=True, ## show the numerical data\n",
    "            square=True,  ## set heatmap to square shape\n",
    "            cmap=plt.get_cmap('Blues') ## define the color\n",
    "           )\n",
    "\n",
    "## axis\n",
    "plt.xticks(length, \n",
    "           X, \n",
    "           rotation=90, \n",
    "           fontsize=15\n",
    "          )\n",
    "plt.yticks(length, \n",
    "           Y, \n",
    "           rotation=0, \n",
    "           fontsize=15)\n",
    "\n",
    "plt.show()\n",
    "\n",
    "print(\"########################## R-C3X_ix ############################\")\n",
    "\n",
    "## axix range and data labels\n",
    "### axix range\n",
    "length=[num+0.5 for num in range(8)]\n",
    "### labels \n",
    "X = [format(num, \"03b\") for num in range(8)]\n",
    "Y = X\n",
    "#######################################################################\n",
    "## set size\n",
    "fig,ax = plt.subplots(figsize=(18, 12))\n",
    "## title\n",
    "plt.title(\"R-C3X_ix on \"+str(simulator)+\"\\n\", \n",
    "          fontsize=20\n",
    "         )\n",
    "\n",
    "## plot data\n",
    "sns.heatmap(mit_ix_data, \n",
    "            vmin = 0.0,  ## define maximum value\n",
    "            vmax=1.0,   ## defnie minimum value\n",
    "            annot=True, ## show the numerical data\n",
    "            square=True,  ## set heatmap to square shape\n",
    "            cmap=plt.get_cmap('Blues') ## define the color\n",
    "           )\n",
    "\n",
    "## axis\n",
    "plt.xticks(length, \n",
    "           X, \n",
    "           rotation=90, \n",
    "           fontsize=15\n",
    "          )\n",
    "plt.yticks(length, \n",
    "           Y, \n",
    "           rotation=0, \n",
    "           fontsize=15)\n",
    "\n",
    "plt.show()"
   ]
  },
  {
   "cell_type": "markdown",
   "metadata": {},
   "source": [
    "### Plot result"
   ]
  },
  {
   "cell_type": "code",
   "execution_count": null,
   "metadata": {},
   "outputs": [],
   "source": [
    "print(\"########################## Ry R-Toffoli ############################\")\n",
    "\n",
    "## axix range and data labels\n",
    "### axix range\n",
    "length=[num+0.5 for num in range(16)]\n",
    "### labels \n",
    "X = [format(num, \"04b\") for num in range(16)]\n",
    "Y = X\n",
    "\n",
    "\n",
    "#######################################################################\n",
    "\n",
    "\n",
    "mapping=0\n",
    "\n",
    "## set size\n",
    "fig,ax = plt.subplots(figsize=(18, 12))\n",
    "\n",
    "## title\n",
    "plt.title(\"Ry R-C3X on \"+str(device)+\"\\n qubit_mapping=\"+str(qubit_list[mapping])+\"\\n\"+str(datetime.today()), \n",
    "          fontsize=20\n",
    "         )\n",
    "\n",
    "## plot data\n",
    "sns.heatmap(Ry_exp_data[mapping], \n",
    "            vmin = 0.0,  ## define maximum value\n",
    "            vmax=1.0,   ## defnie minimum value\n",
    "            annot=True, ## show the numerical data\n",
    "            square=True,  ## set heatmap to square shape\n",
    "            cmap=plt.get_cmap('Blues') ## define the color\n",
    "           )\n",
    "\n",
    "## axis\n",
    "\n",
    "plt.xticks(length, \n",
    "           X, \n",
    "           rotation=90, \n",
    "           fontsize=15\n",
    "          )\n",
    "plt.yticks(length, \n",
    "           Y, \n",
    "           rotation=0, \n",
    "           fontsize=15)\n",
    "\n",
    "plt.show()\n",
    "\n",
    "\n",
    "\n",
    "################################################################\n",
    "\n",
    "mapping = 1\n",
    "\n",
    "## set size\n",
    "fig,ax = plt.subplots(figsize=(18, 12))\n",
    "\n",
    "## title\n",
    "plt.title(\"Ry R-C3X\\n qubit_mapping=\"+str(qubit_list[mapping])+\"\\n\"+str(datetime.today()), fontsize=20)\n",
    "\n",
    "## plot data\n",
    "sns.heatmap(Ry_exp_data[mapping], \n",
    "            vmin = 0.0,  ## define maximum value\n",
    "            vmax=1.0,   ## defnie minimum value\n",
    "            annot=True, ## show the numerical data\n",
    "            square=True,  ## set heatmap to square shape\n",
    "            cmap=plt.get_cmap('Blues')) ## define the color\n",
    "\n",
    "## axis\n",
    "plt.xticks(length, \n",
    "           X, \n",
    "           rotation=90, \n",
    "           fontsize=15\n",
    "          )\n",
    "plt.yticks(length, \n",
    "           Y, \n",
    "           rotation=0, \n",
    "           fontsize=15)\n",
    "\n",
    "plt.show()"
   ]
  },
  {
   "cell_type": "code",
   "execution_count": null,
   "metadata": {},
   "outputs": [],
   "source": [
    "print(\"########################## HT R-Toffoli ############################\")\n",
    "\n",
    "fig = plt.figure(figsize=(20, 10))\n",
    "\n",
    "for i in range(len(mapping_list)):\n",
    "    ax = fig.add_subplot(2, 4, i+1)\n",
    "    ax.imshow(HT_exp_data[0], cmap=plt.get_cmap('Blues'))\n",
    "#     ax.colorbar()\n",
    "#     ax.xticks([0, 1, 2, 3, 4, 5, 6, 7], X)\n",
    "#     ax.yticks([0, 1, 2, 3, 4, 5, 6, 7], Y)\n",
    "    \n",
    "    # タイトルを設定する。\n",
    "    s = \"'{}'\".format(str(mapping_list[i]))\n",
    "    ax.set_title(f\"mapping={s}\")\n",
    "\n",
    "plt.show()"
   ]
  },
  {
   "cell_type": "code",
   "execution_count": null,
   "metadata": {},
   "outputs": [],
   "source": []
  },
  {
   "cell_type": "code",
   "execution_count": null,
   "metadata": {},
   "outputs": [],
   "source": []
  }
 ],
 "metadata": {
  "kernelspec": {
   "display_name": "Python 3",
   "language": "python",
   "name": "python3"
  },
  "language_info": {
   "codemirror_mode": {
    "name": "ipython",
    "version": 3
   },
   "file_extension": ".py",
   "mimetype": "text/x-python",
   "name": "python",
   "nbconvert_exporter": "python",
   "pygments_lexer": "ipython3",
   "version": "3.7.1"
  }
 },
 "nbformat": 4,
 "nbformat_minor": 2
}
