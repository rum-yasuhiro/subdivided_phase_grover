{
 "cells": [
  {
   "cell_type": "markdown",
   "metadata": {},
   "source": [
    "# Toffoli-SWAP fidelity check\n",
    "\n",
    "2020/1/6\n",
    "\n",
    "origined by rum\n",
    "\n",
    "---\n",
    "In this code, two types of R-Toffoli gate are checked fidelity on real device"
   ]
  },
  {
   "cell_type": "code",
   "execution_count": 1,
   "metadata": {},
   "outputs": [
    {
     "ename": "ModuleNotFoundError",
     "evalue": "No module named 'numpy.core._multiarray_umath'",
     "output_type": "error",
     "traceback": [
      "\u001b[0;31m---------------------------------------------------------------------------\u001b[0m",
      "\u001b[0;31mModuleNotFoundError\u001b[0m                       Traceback (most recent call last)",
      "\u001b[0;31mModuleNotFoundError\u001b[0m: No module named 'numpy.core._multiarray_umath'"
     ]
    }
   ],
   "source": [
    "## import tools\n",
    "## Import numpy \n",
    "import numpy as np\n",
    "from numpy import pi\n",
    "\n",
    "## import plot tools\n",
    "import matplotlib.pyplot as plt\n",
    "import matplotlib.cm as cm\n",
    "## To plot heatmap\n",
    "import seaborn as sns\n",
    "\n",
    "## import datetime\n",
    "from datetime import datetime\n",
    "\n",
    "## Import qiskit tools\n",
    "from qiskit import QuantumRegister, ClassicalRegister, QuantumCircuit, execute, Aer, IBMQ\n",
    "from qiskit.tools.visualization import plot_histogram\n",
    "from qiskit.tools.monitor import job_monitor\n",
    "\n",
    "## import qiskit backend monitor\n",
    "from  qiskit.tools.monitor import backend_monitor\n",
    "\n",
    "## import qiskit readout error mitigation tools\n",
    "from qiskit.ignis.mitigation.measurement import (complete_meas_cal, CompleteMeasFitter)"
   ]
  },
  {
   "cell_type": "markdown",
   "metadata": {},
   "source": [
    "---\n",
    "# 1. Get device"
   ]
  },
  {
   "cell_type": "code",
   "execution_count": 2,
   "metadata": {},
   "outputs": [
    {
     "name": "stderr",
     "output_type": "stream",
     "text": [
      "/Users/Yasuhiro/anaconda3/lib/python3.7/site-packages/qiskit/providers/models/backendconfiguration.py:337: UserWarning: `dt` and `dtm` now have units of seconds(s) rather than nanoseconds(ns).\n",
      "  warnings.warn('`dt` and `dtm` now have units of seconds(s) rather '\n"
     ]
    },
    {
     "data": {
      "text/plain": [
       "<AccountProvider for IBMQ(hub='ibm-q', group='open', project='main')>"
      ]
     },
     "execution_count": 2,
     "metadata": {},
     "output_type": "execute_result"
    }
   ],
   "source": [
    "IBMQ.load_account()"
   ]
  },
  {
   "cell_type": "markdown",
   "metadata": {},
   "source": [
    "### Here to choose provider"
   ]
  },
  {
   "cell_type": "code",
   "execution_count": 3,
   "metadata": {},
   "outputs": [],
   "source": [
    "## keio-internal device\n",
    "# provider = IBMQ.get_provider(hub='ibm-q-keio', group='keio-internal', project='keio-students')\n",
    "\n",
    "## reservations\n",
    "provider = IBMQ.get_provider(hub='ibm-q-keio', group='keio-internal', project='reservations')\n",
    "\n",
    "## open device\n",
    "# provider = IBMQ.get_provider(hub='ibm-q', group='open', project='main')"
   ]
  },
  {
   "cell_type": "markdown",
   "metadata": {},
   "source": [
    "### Define the backend device"
   ]
  },
  {
   "cell_type": "code",
   "execution_count": 4,
   "metadata": {},
   "outputs": [],
   "source": [
    "device = provider.get_backend(\"ibmq_valencia\")"
   ]
  },
  {
   "cell_type": "markdown",
   "metadata": {},
   "source": [
    "---\n",
    "# 2. Define circuit"
   ]
  },
  {
   "cell_type": "markdown",
   "metadata": {},
   "source": [
    "### 2-2. Compose circuit"
   ]
  },
  {
   "cell_type": "code",
   "execution_count": 5,
   "metadata": {},
   "outputs": [],
   "source": [
    "## define qubit label as num_qubits\n",
    "num_qubits = len(device.configuration().gates[0].coupling_map)\n",
    "\n",
    "\n",
    "## Define the list to store the circuit lists of each qubits of the processor\n",
    "RTof_qc = []\n",
    "\n",
    "## define init_list\n",
    "init_list = [format(j, '02b') for j in range(4)]\n",
    "\n",
    "## define qubit\n",
    "control, target = [0, 1]"
   ]
  },
  {
   "cell_type": "code",
   "execution_count": 6,
   "metadata": {},
   "outputs": [],
   "source": [
    "## repeat circuit definition for each init_list\n",
    "for init in init_list:\n",
    "\n",
    "    ## define circuit\n",
    "    qr = QuantumRegister(2, \"q\")\n",
    "    cr = ClassicalRegister(2, \"c\")\n",
    "    circuit = QuantumCircuit(qr, cr)\n",
    "\n",
    "    ## Initialization\n",
    "    if(init[0] == '1'):\n",
    "        circuit.x(qr[control])\n",
    "    if(init[1] == '1'):\n",
    "        circuit.x(qr[target])\n",
    "\n",
    "    ## R-Tof_m\n",
    "    circuit.cx(qr[control], qr[target])\n",
    "    \n",
    "    ## insert barrier between gates and measurement\n",
    "    circuit.barrier()\n",
    "\n",
    "    ## measure the qubit\n",
    "    circuit.measure(qr[control], cr[1])\n",
    "    circuit.measure(qr[target], cr[0])\n",
    "\n",
    "    ## Append the circuit to the init_list_qc list\n",
    "    RTof_qc.append(circuit)"
   ]
  },
  {
   "cell_type": "code",
   "execution_count": 7,
   "metadata": {},
   "outputs": [
    {
     "data": {
      "text/html": [
       "<pre style=\"word-wrap: normal;white-space: pre;background: #fff0;line-height: 1.1;font-family: &quot;Courier New&quot;,Courier,monospace\">                   ░ ┌─┐   \n",
       "q_0: |0>───────■───░─┤M├───\n",
       "        ┌───┐┌─┴─┐ ░ └╥┘┌─┐\n",
       "q_1: |0>┤ X ├┤ X ├─░──╫─┤M├\n",
       "        └───┘└───┘ ░  ║ └╥┘\n",
       " c_0: 0 ══════════════╬══╩═\n",
       "                      ║    \n",
       " c_1: 0 ══════════════╩════\n",
       "                           </pre>"
      ],
      "text/plain": [
       "<qiskit.visualization.text.TextDrawing at 0x1048ba5f8>"
      ]
     },
     "execution_count": 7,
     "metadata": {},
     "output_type": "execute_result"
    }
   ],
   "source": [
    "RTof_qc[1].draw()"
   ]
  },
  {
   "cell_type": "markdown",
   "metadata": {},
   "source": [
    "---\n",
    "# 3. Run on QASM simulator"
   ]
  },
  {
   "cell_type": "markdown",
   "metadata": {},
   "source": [
    "### 3-1. Execution"
   ]
  },
  {
   "cell_type": "code",
   "execution_count": 10,
   "metadata": {
    "scrolled": true
   },
   "outputs": [],
   "source": [
    "## define simulator\n",
    "simulator = Aer.get_backend(\"qasm_simulator\")\n",
    "\n",
    "## define shots\n",
    "shots = 8192\n",
    "\n",
    "## define repeat length\n",
    "in_len = len(init_list)\n",
    "\n",
    "## define job\n",
    "job_sim = execute(RTof_qc, backend = simulator, shots = shots)\n",
    "result_sim = job_sim.result()\n",
    "\n",
    "## define the list to imidiately store the counts of the each circuit\n",
    "counts_sim = [result_sim.get_counts(init) for init in range(in_len)]"
   ]
  },
  {
   "cell_type": "code",
   "execution_count": 11,
   "metadata": {},
   "outputs": [
    {
     "name": "stdout",
     "output_type": "stream",
     "text": [
      "counts_sim =  [{'00': 8192}, {'01': 8192}, {'11': 8192}, {'10': 8192}]\n"
     ]
    }
   ],
   "source": [
    "print('counts_sim = ', counts_sim)"
   ]
  },
  {
   "cell_type": "markdown",
   "metadata": {},
   "source": [
    "### 3-2. Plot the result"
   ]
  },
  {
   "cell_type": "code",
   "execution_count": 12,
   "metadata": {},
   "outputs": [],
   "source": [
    "## define length of repeat\n",
    "input_len = len(counts_sim)\n",
    "output_bin = [format(num, '02b') for num in range(4)]\n",
    "\n",
    "sim_data = [[(counts_sim[inputvalue].get(outputvalue, 0))/shots for outputvalue in output_bin] for inputvalue in range(input_len)]"
   ]
  },
  {
   "cell_type": "code",
   "execution_count": 13,
   "metadata": {},
   "outputs": [
    {
     "name": "stdout",
     "output_type": "stream",
     "text": [
      "[[1.0, 0.0, 0.0, 0.0], [0.0, 1.0, 0.0, 0.0], [0.0, 0.0, 0.0, 1.0], [0.0, 0.0, 1.0, 0.0]]\n"
     ]
    }
   ],
   "source": [
    "print(sim_data)"
   ]
  },
  {
   "cell_type": "code",
   "execution_count": 14,
   "metadata": {
    "scrolled": true
   },
   "outputs": [
    {
     "data": {
      "image/png": "[encoded data removed]",
      "text/plain": [
       "<Figure size 648x432 with 2 Axes>"
      ]
     },
     "metadata": {
      "needs_background": "light"
     },
     "output_type": "display_data"
    }
   ],
   "source": [
    "## axix range and data labels\n",
    "### axix range\n",
    "length=[num+0.5 for num in range(4)]\n",
    "### labels \n",
    "X = [format(num, \"03b\") for num in range(4)]\n",
    "Y = X\n",
    "\n",
    "for sim_data in [sim_data]:\n",
    "    ## set size\n",
    "    fig,ax = plt.subplots(figsize=(9, 6))\n",
    "\n",
    "    ## plot data\n",
    "    sns.heatmap(sim_data, \n",
    "                vmin = 0.0,  ## define maximum value\n",
    "                vmax=1.0,   ## defnie minimum value\n",
    "                annot=True, ## show the numerical data\n",
    "                square=True,  ## set heatmap to square shape\n",
    "                cmap=plt.get_cmap('Blues') ## define the color\n",
    "               )\n",
    "\n",
    "    ## axis\n",
    "    plt.xticks(length, \n",
    "               X, \n",
    "               rotation=90, \n",
    "               fontsize=24\n",
    "              )\n",
    "    plt.yticks(length, \n",
    "               Y, \n",
    "               rotation=0, \n",
    "               fontsize=24)\n",
    "    \n",
    "    plt.show()"
   ]
  },
  {
   "cell_type": "markdown",
   "metadata": {},
   "source": [
    "---\n",
    "# 4. Run on Realdevice"
   ]
  },
  {
   "cell_type": "code",
   "execution_count": 15,
   "metadata": {
    "collapsed": true
   },
   "outputs": [
    {
     "name": "stdout",
     "output_type": "stream",
     "text": [
      "ibmq_valencia\n",
      "=============\n",
      "Configuration\n",
      "-------------\n",
      "    n_qubits: 5\n",
      "    operational: True\n",
      "    status_msg: active\n",
      "    pending_jobs: 33\n",
      "    backend_version: 1.0.3\n",
      "    basis_gates: ['u1', 'u2', 'u3', 'cx', 'id']\n",
      "    local: False\n",
      "    simulator: False\n",
      "    backend_name: ibmq_valencia\n",
      "    n_uchannels: 8\n",
      "    qubit_lo_range: [[4.244482429929797, 5.244482429929797], [4.150722822226201, 5.150722822226201], [4.292314966244938, 5.292314966244938], [4.334117245195646, 5.334117245195646], [4.459346739193721, 5.459346739193721]]\n",
      "    dt: 3.5555555555555554e-09\n",
      "    hamiltonian: {'description': 'Qubits are modelled as a two level system. Qubits are coupled through resonator buses. The provided Hamiltonian has been projected into the zero excitation subspace of the resonator buses leading to an effective qubit-qubit flip-flop interaction. The qubit resonance frequencies in the Hamiltonian are the cavity dressed frequencies and not exactly what is returned by the backend defaults, which also includes the dressing due to the qubit-qubit interactions.\\nWarning: Currently not all system Hamiltonian information is available to the public, missing values have been replaced with 0.\\n', 'h_latex': '\\\\begin{align} \\\\mathcal{H}/\\\\hbar = & \\\\sum_{i=0}^{4}\\\\left(\\\\frac{\\\\omega_{q,i}}{2} (\\\\mathbb{1}_i-\\\\sigma_i^{z})+ \\\\Omega_{d,i}D_i(t)\\\\sigma_i^{X}\\\\right) \\\\\\\\ & + J_{1,2}(\\\\sigma_{1}^{+}\\\\sigma_{2}^{-}+\\\\sigma_{1}^{-}\\\\sigma_{2}^{+}) + J_{1,3}(\\\\sigma_{1}^{+}\\\\sigma_{3}^{-}+\\\\sigma_{1}^{-}\\\\sigma_{3}^{+}) + J_{0,1}(\\\\sigma_{0}^{+}\\\\sigma_{1}^{-}+\\\\sigma_{0}^{-}\\\\sigma_{1}^{+}) + J_{3,4}(\\\\sigma_{3}^{+}\\\\sigma_{4}^{-}+\\\\sigma_{3}^{-}\\\\sigma_{4}^{+}) \\\\\\\\ & + \\\\Omega_{d,0}(U_{0}^{(0,1)}(t))\\\\sigma_{0}^{X} + \\\\Omega_{d,1}(U_{1}^{(1,0)}(t)+U_{3}^{(1,3)}(t)+U_{2}^{(1,2)}(t))\\\\sigma_{1}^{X} \\\\\\\\ & + \\\\Omega_{d,2}(U_{4}^{(2,1)}(t))\\\\sigma_{2}^{X} + \\\\Omega_{d,3}(U_{5}^{(3,1)}(t)+U_{6}^{(3,4)}(t))\\\\sigma_{3}^{X} \\\\\\\\ & + \\\\Omega_{d,4}(U_{7}^{(4,3)}(t))\\\\sigma_{4}^{X} \\\\\\\\ \\\\end{align}', 'h_str': ['_SUM[i,0,4,wq{i}/2*(I{i}-Z{i})]', '_SUM[i,0,4,omegad{i}*X{i}||D{i}]', 'jq1q2*Sp1*Sm2', 'jq1q2*Sm1*Sp2', 'jq1q3*Sp1*Sm3', 'jq1q3*Sm1*Sp3', 'jq0q1*Sp0*Sm1', 'jq0q1*Sm0*Sp1', 'jq3q4*Sp3*Sm4', 'jq3q4*Sm3*Sp4', 'omegad1*X0||U0', 'omegad0*X1||U1', 'omegad3*X1||U3', 'omegad2*X1||U2', 'omegad1*X2||U4', 'omegad1*X3||U5', 'omegad4*X3||U6', 'omegad3*X4||U7'], 'osc': {}, 'qub': {'0': 2, '1': 2, '2': 2, '3': 2, '4': 2}, 'vars': {'jq0q1': 0, 'jq1q2': 0, 'jq1q3': 0, 'jq3q4': 0, 'omegad0': 0, 'omegad1': 0, 'omegad2': 0, 'omegad3': 0, 'omegad4': 0, 'wq0': 29.810462293906603, 'wq1': 29.221353304376446, 'wq2': 30.11100298328703, 'wq3': 30.373654448196746, 'wq4': 31.160494564910987}}\n",
      "    quantum_volume: 16\n",
      "    n_registers: 1\n",
      "    open_pulse: True\n",
      "    allow_q_object: True\n",
      "    dtm: 3.5555555555555554e-09\n",
      "    meas_lo_range: [[6.791423281, 7.791423281], [6.564734703, 7.564734703], [6.709148181, 7.709148181], [6.637515922, 7.637515922], [6.484029338, 7.484029338]]\n",
      "    max_experiments: 900\n",
      "    meas_levels: [0, 1]\n",
      "    credits_required: True\n",
      "    description: 5 qubit device Valencia\n",
      "    allow_q_circuit: False\n",
      "    u_channel_lo: [[{'scale': [1.0, 0.0], 'q': 1}], [{'scale': [1.0, 0.0], 'q': 0}], [{'scale': [1.0, 0.0], 'q': 2}], [{'scale': [1.0, 0.0], 'q': 3}], [{'scale': [1.0, 0.0], 'q': 1}], [{'scale': [1.0, 0.0], 'q': 1}], [{'scale': [1.0, 0.0], 'q': 4}], [{'scale': [1.0, 0.0], 'q': 3}]]\n",
      "    allow_object_storage: True\n",
      "    memory: True\n",
      "    conditional: False\n",
      "    acquisition_latency: []\n",
      "    meas_map: [[0, 1, 2, 3, 4]]\n",
      "    conditional_latency: []\n",
      "    meas_kernels: ['boxcar']\n",
      "    coupling_map: [[0, 1], [1, 0], [1, 2], [1, 3], [2, 1], [3, 1], [3, 4], [4, 3]]\n",
      "    discriminators: ['linear_discriminator', 'quadratic_discriminator']\n",
      "    url: None\n",
      "    online_date: 2019-07-03T04:00:00+00:00\n",
      "    max_shots: 8192\n",
      "    rep_times: [1000]\n",
      "    uchannels_enabled: True\n",
      "    sample_name: Giraffe\n",
      "\n",
      "Qubits [Name / Freq / T1 / T2 / U1 err / U2 err / U3 err / Readout err]\n",
      "-----------------------------------------------------------------------\n",
      "    Q0 / 4.74448 GHz / 131.63001 µs / 86.00332 µs / 0.0 / 0.00041 / 0.00081 / 0.02625\n",
      "    Q1 / 4.65072 GHz / 128.88818 µs / 100.84246 µs / 0.0 / 0.00069 / 0.00139 / 0.03875\n",
      "    Q2 / 4.79231 GHz / 98.14081 µs / 38.9374 µs / 0.0 / 0.00053 / 0.00106 / 0.02375\n",
      "    Q3 / 4.83412 GHz / 95.42419 µs / 32.41774 µs / 0.0 / 0.00035 / 0.00069 / 0.04\n",
      "    Q4 / 4.95935 GHz / 91.78739 µs / 105.28362 µs / 0.0 / 0.00032 / 0.00065 / 0.04875\n",
      "\n",
      "Multi-Qubit Gates [Name / Type / Gate Error]\n",
      "--------------------------------------------\n",
      "    cx0_1 / cx / 0.01076\n",
      "    cx1_0 / cx / 0.01076\n",
      "    cx1_2 / cx / 0.0121\n",
      "    cx1_3 / cx / 0.02036\n",
      "    cx2_1 / cx / 0.0121\n",
      "    cx3_1 / cx / 0.02036\n",
      "    cx3_4 / cx / 0.00905\n",
      "    cx4_3 / cx / 0.00905\n"
     ]
    }
   ],
   "source": [
    "backend_monitor(device)"
   ]
  },
  {
   "cell_type": "raw",
   "metadata": {},
   "source": [
    "ibmq_valencia\n",
    "=============\n",
    "Configuration\n",
    "-------------\n",
    "    n_qubits: 5\n",
    "    operational: True\n",
    "    status_msg: active\n",
    "    pending_jobs: 33\n",
    "    backend_version: 1.0.3\n",
    "    basis_gates: ['u1', 'u2', 'u3', 'cx', 'id']\n",
    "    local: False\n",
    "    simulator: False\n",
    "    backend_name: ibmq_valencia\n",
    "    n_uchannels: 8\n",
    "    qubit_lo_range: [[4.244482429929797, 5.244482429929797], [4.150722822226201, 5.150722822226201], [4.292314966244938, 5.292314966244938], [4.334117245195646, 5.334117245195646], [4.459346739193721, 5.459346739193721]]\n",
    "    dt: 3.5555555555555554e-09\n",
    "    hamiltonian: {'description': 'Qubits are modelled as a two level system. Qubits are coupled through resonator buses. The provided Hamiltonian has been projected into the zero excitation subspace of the resonator buses leading to an effective qubit-qubit flip-flop interaction. The qubit resonance frequencies in the Hamiltonian are the cavity dressed frequencies and not exactly what is returned by the backend defaults, which also includes the dressing due to the qubit-qubit interactions.\\nWarning: Currently not all system Hamiltonian information is available to the public, missing values have been replaced with 0.\\n', 'h_latex': '\\\\begin{align} \\\\mathcal{H}/\\\\hbar = & \\\\sum_{i=0}^{4}\\\\left(\\\\frac{\\\\omega_{q,i}}{2} (\\\\mathbb{1}_i-\\\\sigma_i^{z})+ \\\\Omega_{d,i}D_i(t)\\\\sigma_i^{X}\\\\right) \\\\\\\\ & + J_{1,2}(\\\\sigma_{1}^{+}\\\\sigma_{2}^{-}+\\\\sigma_{1}^{-}\\\\sigma_{2}^{+}) + J_{1,3}(\\\\sigma_{1}^{+}\\\\sigma_{3}^{-}+\\\\sigma_{1}^{-}\\\\sigma_{3}^{+}) + J_{0,1}(\\\\sigma_{0}^{+}\\\\sigma_{1}^{-}+\\\\sigma_{0}^{-}\\\\sigma_{1}^{+}) + J_{3,4}(\\\\sigma_{3}^{+}\\\\sigma_{4}^{-}+\\\\sigma_{3}^{-}\\\\sigma_{4}^{+}) \\\\\\\\ & + \\\\Omega_{d,0}(U_{0}^{(0,1)}(t))\\\\sigma_{0}^{X} + \\\\Omega_{d,1}(U_{1}^{(1,0)}(t)+U_{3}^{(1,3)}(t)+U_{2}^{(1,2)}(t))\\\\sigma_{1}^{X} \\\\\\\\ & + \\\\Omega_{d,2}(U_{4}^{(2,1)}(t))\\\\sigma_{2}^{X} + \\\\Omega_{d,3}(U_{5}^{(3,1)}(t)+U_{6}^{(3,4)}(t))\\\\sigma_{3}^{X} \\\\\\\\ & + \\\\Omega_{d,4}(U_{7}^{(4,3)}(t))\\\\sigma_{4}^{X} \\\\\\\\ \\\\end{align}', 'h_str': ['_SUM[i,0,4,wq{i}/2*(I{i}-Z{i})]', '_SUM[i,0,4,omegad{i}*X{i}||D{i}]', 'jq1q2*Sp1*Sm2', 'jq1q2*Sm1*Sp2', 'jq1q3*Sp1*Sm3', 'jq1q3*Sm1*Sp3', 'jq0q1*Sp0*Sm1', 'jq0q1*Sm0*Sp1', 'jq3q4*Sp3*Sm4', 'jq3q4*Sm3*Sp4', 'omegad1*X0||U0', 'omegad0*X1||U1', 'omegad3*X1||U3', 'omegad2*X1||U2', 'omegad1*X2||U4', 'omegad1*X3||U5', 'omegad4*X3||U6', 'omegad3*X4||U7'], 'osc': {}, 'qub': {'0': 2, '1': 2, '2': 2, '3': 2, '4': 2}, 'vars': {'jq0q1': 0, 'jq1q2': 0, 'jq1q3': 0, 'jq3q4': 0, 'omegad0': 0, 'omegad1': 0, 'omegad2': 0, 'omegad3': 0, 'omegad4': 0, 'wq0': 29.810462293906603, 'wq1': 29.221353304376446, 'wq2': 30.11100298328703, 'wq3': 30.373654448196746, 'wq4': 31.160494564910987}}\n",
    "    quantum_volume: 16\n",
    "    n_registers: 1\n",
    "    open_pulse: True\n",
    "    allow_q_object: True\n",
    "    dtm: 3.5555555555555554e-09\n",
    "    meas_lo_range: [[6.791423281, 7.791423281], [6.564734703, 7.564734703], [6.709148181, 7.709148181], [6.637515922, 7.637515922], [6.484029338, 7.484029338]]\n",
    "    max_experiments: 900\n",
    "    meas_levels: [0, 1]\n",
    "    credits_required: True\n",
    "    description: 5 qubit device Valencia\n",
    "    allow_q_circuit: False\n",
    "    u_channel_lo: [[{'scale': [1.0, 0.0], 'q': 1}], [{'scale': [1.0, 0.0], 'q': 0}], [{'scale': [1.0, 0.0], 'q': 2}], [{'scale': [1.0, 0.0], 'q': 3}], [{'scale': [1.0, 0.0], 'q': 1}], [{'scale': [1.0, 0.0], 'q': 1}], [{'scale': [1.0, 0.0], 'q': 4}], [{'scale': [1.0, 0.0], 'q': 3}]]\n",
    "    allow_object_storage: True\n",
    "    memory: True\n",
    "    conditional: False\n",
    "    acquisition_latency: []\n",
    "    meas_map: [[0, 1, 2, 3, 4]]\n",
    "    conditional_latency: []\n",
    "    meas_kernels: ['boxcar']\n",
    "    coupling_map: [[0, 1], [1, 0], [1, 2], [1, 3], [2, 1], [3, 1], [3, 4], [4, 3]]\n",
    "    discriminators: ['linear_discriminator', 'quadratic_discriminator']\n",
    "    url: None\n",
    "    online_date: 2019-07-03T04:00:00+00:00\n",
    "    max_shots: 8192\n",
    "    rep_times: [1000]\n",
    "    uchannels_enabled: True\n",
    "    sample_name: Giraffe\n",
    "\n",
    "Qubits [Name / Freq / T1 / T2 / U1 err / U2 err / U3 err / Readout err]\n",
    "-----------------------------------------------------------------------\n",
    "    Q0 / 4.74448 GHz / 131.63001 µs / 86.00332 µs / 0.0 / 0.00041 / 0.00081 / 0.02625\n",
    "    Q1 / 4.65072 GHz / 128.88818 µs / 100.84246 µs / 0.0 / 0.00069 / 0.00139 / 0.03875\n",
    "    Q2 / 4.79231 GHz / 98.14081 µs / 38.9374 µs / 0.0 / 0.00053 / 0.00106 / 0.02375\n",
    "    Q3 / 4.83412 GHz / 95.42419 µs / 32.41774 µs / 0.0 / 0.00035 / 0.00069 / 0.04\n",
    "    Q4 / 4.95935 GHz / 91.78739 µs / 105.28362 µs / 0.0 / 0.00032 / 0.00065 / 0.04875\n",
    "\n",
    "Multi-Qubit Gates [Name / Type / Gate Error]\n",
    "--------------------------------------------\n",
    "    cx0_1 / cx / 0.01076\n",
    "    cx1_0 / cx / 0.01076\n",
    "    cx1_2 / cx / 0.0121\n",
    "    cx1_3 / cx / 0.02036\n",
    "    cx2_1 / cx / 0.0121\n",
    "    cx3_1 / cx / 0.02036\n",
    "    cx3_4 / cx / 0.00905\n",
    "    cx4_3 / cx / 0.00905"
   ]
  },
  {
   "cell_type": "markdown",
   "metadata": {},
   "source": [
    "### 4-1. finding the qubit mapping list"
   ]
  },
  {
   "cell_type": "code",
   "execution_count": 16,
   "metadata": {},
   "outputs": [
    {
     "name": "stdout",
     "output_type": "stream",
     "text": [
      "[[0, 1], [1, 0], [1, 2], [1, 3], [2, 1], [3, 1], [3, 4], [4, 3]]\n"
     ]
    }
   ],
   "source": [
    "## Get qubit coupling map\n",
    "conf = device.configuration()\n",
    "coupling_map = conf.coupling_map\n",
    "print(coupling_map)"
   ]
  },
  {
   "cell_type": "code",
   "execution_count": 17,
   "metadata": {},
   "outputs": [
    {
     "name": "stdout",
     "output_type": "stream",
     "text": [
      "qubit_mapping =  [[0, 1], [1, 0], [1, 2], [1, 3], [2, 1], [3, 1], [3, 4], [4, 3]]\n"
     ]
    }
   ],
   "source": [
    "qubit_mapping = coupling_map\n",
    "print(\"qubit_mapping = \", qubit_mapping)"
   ]
  },
  {
   "cell_type": "markdown",
   "metadata": {},
   "source": [
    "### 4-2. Define mitigation circuit"
   ]
  },
  {
   "cell_type": "code",
   "execution_count": 18,
   "metadata": {},
   "outputs": [],
   "source": [
    "qr = QuantumRegister(2)\n",
    "meas_calibs, state_labels = complete_meas_cal(qr=qr, circlabel='mcal')"
   ]
  },
  {
   "cell_type": "code",
   "execution_count": 19,
   "metadata": {},
   "outputs": [
    {
     "name": "stdout",
     "output_type": "stream",
     "text": [
      "[<qiskit.circuit.quantumcircuit.QuantumCircuit object at 0x1a1e35ec88>, <qiskit.circuit.quantumcircuit.QuantumCircuit object at 0x1a1e35ed30>, <qiskit.circuit.quantumcircuit.QuantumCircuit object at 0x1a1e35ee48>, <qiskit.circuit.quantumcircuit.QuantumCircuit object at 0x1a1e35ef98>]\n",
      "['00', '01', '10', '11']\n"
     ]
    }
   ],
   "source": [
    "print(meas_calibs)\n",
    "print(state_labels)"
   ]
  },
  {
   "cell_type": "markdown",
   "metadata": {},
   "source": [
    "### 4-3. Execution"
   ]
  },
  {
   "cell_type": "code",
   "execution_count": 20,
   "metadata": {
    "scrolled": true
   },
   "outputs": [
    {
     "name": "stdout",
     "output_type": "stream",
     "text": [
      "sent the job [0, 1]\n",
      "sent the cal_job [0, 1]\n",
      "sent the job [1, 0]\n",
      "sent the cal_job [1, 0]\n",
      "sent the job [1, 2]\n",
      "sent the cal_job [1, 2]\n",
      "sent the job [1, 3]\n",
      "sent the cal_job [1, 3]\n",
      "sent the job [2, 1]\n",
      "sent the cal_job [2, 1]\n",
      "sent the job [3, 1]\n",
      "sent the cal_job [3, 1]\n",
      "sent the job [3, 4]\n",
      "sent the cal_job [3, 4]\n",
      "sent the job [4, 3]\n",
      "sent the cal_job [4, 3]\n",
      "job_id_list =  ['5e12f8abe7977f001127dcb5', '5e12f8b1ee2824001150d9e8', '5e12f8b839e9810012555ef7', '5e12f8bca36a940012148d04', '5e12f8c05879b80012ec8b7a', '5e12f8c506766d001137ca97', '5e12f8cab548320011261490', '5e12f8cea36a940012148d07']\n",
      "cal_job_id_list =  ['5e12f8ae7272e100112de639', '5e12f8b5b54832001126148f', '5e12f8bbee2824001150d9e9', '5e12f8be39e9810012555ef8', '5e12f8c339e9810012555ef9', '5e12f8c8e7977f001127dcb6', '5e12f8cce7977f001127dcb8', '5e12f8d0efb76e0011439071']\n"
     ]
    }
   ],
   "source": [
    "## define shots\n",
    "shots = 8192\n",
    "\n",
    "## define the lists to store job_id\n",
    "job_id_list = []\n",
    "cal_job_id_list = []\n",
    "\n",
    "## repeat # of qubit_mapping times\n",
    "for mapping in qubit_mapping:\n",
    "    \n",
    "    ## job for circuit execution\n",
    "    job_exp = execute(RTof_qc,\n",
    "                      backend = device, \n",
    "                      shots = shots,\n",
    "                      initial_layout=mapping,\n",
    "                      optimization_level = 0\n",
    "                     )\n",
    "    job_id_list.append(job_exp.job_id())\n",
    "    print('sent the job', mapping)\n",
    "\n",
    "    \n",
    "    ## job for meas_cal\n",
    "    cal_job = execute(meas_calibs, \n",
    "                    backend = device,\n",
    "                    shots=shots,\n",
    "                    initial_layout=mapping,\n",
    "                    optimization_level=0\n",
    "                    )\n",
    "    cal_job_id_list.append(cal_job.job_id())\n",
    "    print('sent the cal_job', mapping)\n",
    "    \n",
    "#     ## get results\n",
    "#     result_exp = job_exp.result()\n",
    "#     result_cal = cal_job.result()\n",
    "    \n",
    "#     result_exp_list.append(result_exp)\n",
    "#     result_cal_exp_list.append(result_cal)\n",
    "\n",
    "print('job_id_list = ', job_id_list)\n",
    "print('cal_job_id_list = ', cal_job_id_list)"
   ]
  },
  {
   "cell_type": "code",
   "execution_count": 19,
   "metadata": {},
   "outputs": [],
   "source": [
    "job_id_list =  ['5e12f8abe7977f001127dcb5', '5e12f8b1ee2824001150d9e8', '5e12f8b839e9810012555ef7', '5e12f8bca36a940012148d04', '5e12f8c05879b80012ec8b7a', '5e12f8c506766d001137ca97', '5e12f8cab548320011261490', '5e12f8cea36a940012148d07']\n",
    "cal_job_id_list =  ['5e12f8ae7272e100112de639', '5e12f8b5b54832001126148f', '5e12f8bbee2824001150d9e9', '5e12f8be39e9810012555ef8', '5e12f8c339e9810012555ef9', '5e12f8c8e7977f001127dcb6', '5e12f8cce7977f001127dcb8', '5e12f8d0efb76e0011439071']"
   ]
  },
  {
   "cell_type": "markdown",
   "metadata": {},
   "source": [
    "### 4-4. retrieve the job and get the result"
   ]
  },
  {
   "cell_type": "code",
   "execution_count": 20,
   "metadata": {
    "scrolled": true
   },
   "outputs": [
    {
     "name": "stdout",
     "output_type": "stream",
     "text": [
      "jobs were retrieved\n",
      "got exp result\n",
      "got cal_exp result\n",
      "jobs were retrieved\n",
      "got exp result\n",
      "got cal_exp result\n",
      "jobs were retrieved\n",
      "got exp result\n",
      "got cal_exp result\n",
      "jobs were retrieved\n",
      "got exp result\n",
      "got cal_exp result\n",
      "jobs were retrieved\n",
      "got exp result\n",
      "got cal_exp result\n",
      "jobs were retrieved\n",
      "got exp result\n",
      "got cal_exp result\n",
      "jobs were retrieved\n",
      "got exp result\n",
      "got cal_exp result\n",
      "jobs were retrieved\n",
      "got exp result\n",
      "got cal_exp result\n",
      "[Result(backend_name='ibmq_valencia', backend_version='1.0.3', date=datetime.datetime(2019, 12, 26, 1, 12, 34, tzinfo=datetime.timezone.utc), execution_id='b71717f8-277c-11ea-a09b-ac1f6b47c318', header=Obj(backend_name='ibmq_valencia', backend_version='1.0.3'), job_id='5e040657a4bcd300114db617', qobj_id='30d8ee0f-9964-402d-8ea1-e900842a4eff', results=[ExperimentResult(data=ExperimentResultData(counts=Obj(0x0=7935, 0x1=101, 0x2=42, 0x3=114)), header=Obj(clbit_labels=[['c', 0], ['c', 1]], creg_sizes=[['c', 2]], memory_slots=2, n_qubits=5, name='circuit0', qreg_sizes=[['q', 5]], qubit_labels=[['q', 0], ['q', 1], ['q', 2], ['q', 3], ['q', 4]]), meas_level=2, memory=False, shots=8192, success=True), ExperimentResult(data=ExperimentResultData(counts=Obj(0x0=454, 0x1=7582, 0x2=109, 0x3=47)), header=Obj(clbit_labels=[['c', 0], ['c', 1]], creg_sizes=[['c', 2]], memory_slots=2, n_qubits=5, name='circuit1', qreg_sizes=[['q', 5]], qubit_labels=[['q', 0], ['q', 1], ['q', 2], ['q', 3], ['q', 4]]), meas_level=2, memory=False, shots=8192, success=True), ExperimentResult(data=ExperimentResultData(counts=Obj(0x0=147, 0x1=253, 0x2=413, 0x3=7379)), header=Obj(clbit_labels=[['c', 0], ['c', 1]], creg_sizes=[['c', 2]], memory_slots=2, n_qubits=5, name='circuit2', qreg_sizes=[['q', 5]], qubit_labels=[['q', 0], ['q', 1], ['q', 2], ['q', 3], ['q', 4]]), meas_level=2, memory=False, shots=8192, success=True), ExperimentResult(data=ExperimentResultData(counts=Obj(0x0=262, 0x1=131, 0x2=7684, 0x3=115)), header=Obj(clbit_labels=[['c', 0], ['c', 1]], creg_sizes=[['c', 2]], memory_slots=2, n_qubits=5, name='circuit3', qreg_sizes=[['q', 5]], qubit_labels=[['q', 0], ['q', 1], ['q', 2], ['q', 3], ['q', 4]]), meas_level=2, memory=False, shots=8192, success=True)], status='Successful completion', success=True, time_taken=37.094948053359985), Result(backend_name='ibmq_valencia', backend_version='1.0.3', date=datetime.datetime(2019, 12, 26, 1, 14, tzinfo=datetime.timezone.utc), execution_id='ea2422a8-277c-11ea-b845-ac1f6b47c318', header=Obj(backend_name='ibmq_valencia', backend_version='1.0.3'), job_id='5e04065c76be6000126d9290', qobj_id='66213bb8-de41-496d-b313-5cf55a649d7f', results=[ExperimentResult(data=ExperimentResultData(counts=Obj(0x0=7949, 0x1=160, 0x2=24, 0x3=59)), header=Obj(clbit_labels=[['c', 0], ['c', 1]], creg_sizes=[['c', 2]], memory_slots=2, n_qubits=5, name='circuit0', qreg_sizes=[['q', 5]], qubit_labels=[['q', 0], ['q', 1], ['q', 2], ['q', 3], ['q', 4]]), meas_level=2, memory=False, shots=8192, success=True), ExperimentResult(data=ExperimentResultData(counts=Obj(0x0=369, 0x1=7753, 0x2=43, 0x3=27)), header=Obj(clbit_labels=[['c', 0], ['c', 1]], creg_sizes=[['c', 2]], memory_slots=2, n_qubits=5, name='circuit1', qreg_sizes=[['q', 5]], qubit_labels=[['q', 0], ['q', 1], ['q', 2], ['q', 3], ['q', 4]]), meas_level=2, memory=False, shots=8192, success=True), ExperimentResult(data=ExperimentResultData(counts=Obj(0x0=60, 0x1=383, 0x2=364, 0x3=7385)), header=Obj(clbit_labels=[['c', 0], ['c', 1]], creg_sizes=[['c', 2]], memory_slots=2, n_qubits=5, name='circuit2', qreg_sizes=[['q', 5]], qubit_labels=[['q', 0], ['q', 1], ['q', 2], ['q', 3], ['q', 4]]), meas_level=2, memory=False, shots=8192, success=True), ExperimentResult(data=ExperimentResultData(counts=Obj(0x0=404, 0x1=48, 0x2=7567, 0x3=173)), header=Obj(clbit_labels=[['c', 0], ['c', 1]], creg_sizes=[['c', 2]], memory_slots=2, n_qubits=5, name='circuit3', qreg_sizes=[['q', 5]], qubit_labels=[['q', 0], ['q', 1], ['q', 2], ['q', 3], ['q', 4]]), meas_level=2, memory=False, shots=8192, success=True)], status='Successful completion', success=True, time_taken=37.3195595741272), Result(backend_name='ibmq_valencia', backend_version='1.0.3', date=datetime.datetime(2019, 12, 26, 1, 15, 31, tzinfo=datetime.timezone.utc), execution_id='2066634e-277d-11ea-b3b0-ac1f6b47c318', header=Obj(backend_name='ibmq_valencia', backend_version='1.0.3'), job_id='5e04066158c50e0012c33e6a', qobj_id='0a90bfe5-ca77-4ddb-a1f6-805f47503ed0', results=[ExperimentResult(data=ExperimentResultData(counts=Obj(0x0=7958, 0x1=157, 0x2=23, 0x3=54)), header=Obj(clbit_labels=[['c', 0], ['c', 1]], creg_sizes=[['c', 2]], memory_slots=2, n_qubits=5, name='circuit0', qreg_sizes=[['q', 5]], qubit_labels=[['q', 0], ['q', 1], ['q', 2], ['q', 3], ['q', 4]]), meas_level=2, memory=False, shots=8192, success=True), ExperimentResult(data=ExperimentResultData(counts=Obj(0x0=584, 0x1=7516, 0x2=55, 0x3=37)), header=Obj(clbit_labels=[['c', 0], ['c', 1]], creg_sizes=[['c', 2]], memory_slots=2, n_qubits=5, name='circuit1', qreg_sizes=[['q', 5]], qubit_labels=[['q', 0], ['q', 1], ['q', 2], ['q', 3], ['q', 4]]), meas_level=2, memory=False, shots=8192, success=True), ExperimentResult(data=ExperimentResultData(counts=Obj(0x0=83, 0x1=358, 0x2=556, 0x3=7195)), header=Obj(clbit_labels=[['c', 0], ['c', 1]], creg_sizes=[['c', 2]], memory_slots=2, n_qubits=5, name='circuit2', qreg_sizes=[['q', 5]], qubit_labels=[['q', 0], ['q', 1], ['q', 2], ['q', 3], ['q', 4]]), meas_level=2, memory=False, shots=8192, success=True), ExperimentResult(data=ExperimentResultData(counts=Obj(0x0=371, 0x1=56, 0x2=7580, 0x3=185)), header=Obj(clbit_labels=[['c', 0], ['c', 1]], creg_sizes=[['c', 2]], memory_slots=2, n_qubits=5, name='circuit3', qreg_sizes=[['q', 5]], qubit_labels=[['q', 0], ['q', 1], ['q', 2], ['q', 3], ['q', 4]]), meas_level=2, memory=False, shots=8192, success=True)], status='Successful completion', success=True, time_taken=37.286970138549805), Result(backend_name='ibmq_valencia', backend_version='1.0.3', date=datetime.datetime(2019, 12, 26, 1, 16, 56, tzinfo=datetime.timezone.utc), execution_id='53152c6c-277d-11ea-ab51-ac1f6b47c318', header=Obj(backend_name='ibmq_valencia', backend_version='1.0.3'), job_id='5e04066658c50e0012c33e6c', qobj_id='2ed200be-0949-48f0-93f3-1e53109d9be4', results=[ExperimentResult(data=ExperimentResultData(counts=Obj(0x0=7903, 0x1=146, 0x2=41, 0x3=102)), header=Obj(clbit_labels=[['c', 0], ['c', 1]], creg_sizes=[['c', 2]], memory_slots=2, n_qubits=5, name='circuit0', qreg_sizes=[['q', 5]], qubit_labels=[['q', 0], ['q', 1], ['q', 2], ['q', 3], ['q', 4]]), meas_level=2, memory=False, shots=8192, success=True), ExperimentResult(data=ExperimentResultData(counts=Obj(0x0=434, 0x1=7652, 0x2=82, 0x3=24)), header=Obj(clbit_labels=[['c', 0], ['c', 1]], creg_sizes=[['c', 2]], memory_slots=2, n_qubits=5, name='circuit1', qreg_sizes=[['q', 5]], qubit_labels=[['q', 0], ['q', 1], ['q', 2], ['q', 3], ['q', 4]]), meas_level=2, memory=False, shots=8192, success=True), ExperimentResult(data=ExperimentResultData(counts=Obj(0x0=59, 0x1=382, 0x2=389, 0x3=7362)), header=Obj(clbit_labels=[['c', 0], ['c', 1]], creg_sizes=[['c', 2]], memory_slots=2, n_qubits=5, name='circuit2', qreg_sizes=[['q', 5]], qubit_labels=[['q', 0], ['q', 1], ['q', 2], ['q', 3], ['q', 4]]), meas_level=2, memory=False, shots=8192, success=True), ExperimentResult(data=ExperimentResultData(counts=Obj(0x0=433, 0x1=60, 0x2=7507, 0x3=192)), header=Obj(clbit_labels=[['c', 0], ['c', 1]], creg_sizes=[['c', 2]], memory_slots=2, n_qubits=5, name='circuit3', qreg_sizes=[['q', 5]], qubit_labels=[['q', 0], ['q', 1], ['q', 2], ['q', 3], ['q', 4]]), meas_level=2, memory=False, shots=8192, success=True)], status='Successful completion', success=True, time_taken=37.29704666137695), Result(backend_name='ibmq_valencia', backend_version='1.0.3', date=datetime.datetime(2019, 12, 26, 1, 18, 21, tzinfo=datetime.timezone.utc), execution_id='85f5ecc0-277d-11ea-aa61-ac1f6b47c318', header=Obj(backend_name='ibmq_valencia', backend_version='1.0.3'), job_id='5e04066c58c50e0012c33e6d', qobj_id='93ec73ab-5eec-4335-bc36-c1a4fb95c8f6', results=[ExperimentResult(data=ExperimentResultData(counts=Obj(0x0=7952, 0x1=63, 0x2=77, 0x3=100)), header=Obj(clbit_labels=[['c', 0], ['c', 1]], creg_sizes=[['c', 2]], memory_slots=2, n_qubits=5, name='circuit0', qreg_sizes=[['q', 5]], qubit_labels=[['q', 0], ['q', 1], ['q', 2], ['q', 3], ['q', 4]]), meas_level=2, memory=False, shots=8192, success=True), ExperimentResult(data=ExperimentResultData(counts=Obj(0x0=437, 0x1=7588, 0x2=103, 0x3=64)), header=Obj(clbit_labels=[['c', 0], ['c', 1]], creg_sizes=[['c', 2]], memory_slots=2, n_qubits=5, name='circuit1', qreg_sizes=[['q', 5]], qubit_labels=[['q', 0], ['q', 1], ['q', 2], ['q', 3], ['q', 4]]), meas_level=2, memory=False, shots=8192, success=True), ExperimentResult(data=ExperimentResultData(counts=Obj(0x0=124, 0x1=460, 0x2=422, 0x3=7186)), header=Obj(clbit_labels=[['c', 0], ['c', 1]], creg_sizes=[['c', 2]], memory_slots=2, n_qubits=5, name='circuit2', qreg_sizes=[['q', 5]], qubit_labels=[['q', 0], ['q', 1], ['q', 2], ['q', 3], ['q', 4]]), meas_level=2, memory=False, shots=8192, success=True), ExperimentResult(data=ExperimentResultData(counts=Obj(0x0=516, 0x1=99, 0x2=7489, 0x3=88)), header=Obj(clbit_labels=[['c', 0], ['c', 1]], creg_sizes=[['c', 2]], memory_slots=2, n_qubits=5, name='circuit3', qreg_sizes=[['q', 5]], qubit_labels=[['q', 0], ['q', 1], ['q', 2], ['q', 3], ['q', 4]]), meas_level=2, memory=False, shots=8192, success=True)], status='Successful completion', success=True, time_taken=37.30965971946716), Result(backend_name='ibmq_valencia', backend_version='1.0.3', date=datetime.datetime(2019, 12, 26, 1, 19, 47, tzinfo=datetime.timezone.utc), execution_id='b8ed24e0-277d-11ea-9377-ac1f6b47c318', header=Obj(backend_name='ibmq_valencia', backend_version='1.0.3'), job_id='5e0406712b1101001312c602', qobj_id='e8ce3b33-8641-4d2c-abaa-c04cd2b66d93', results=[ExperimentResult(data=ExperimentResultData(counts=Obj(0x0=7934, 0x1=108, 0x2=38, 0x3=112)), header=Obj(clbit_labels=[['c', 0], ['c', 1]], creg_sizes=[['c', 2]], memory_slots=2, n_qubits=5, name='circuit0', qreg_sizes=[['q', 5]], qubit_labels=[['q', 0], ['q', 1], ['q', 2], ['q', 3], ['q', 4]]), meas_level=2, memory=False, shots=8192, success=True), ExperimentResult(data=ExperimentResultData(counts=Obj(0x0=524, 0x1=7512, 0x2=120, 0x3=36)), header=Obj(clbit_labels=[['c', 0], ['c', 1]], creg_sizes=[['c', 2]], memory_slots=2, n_qubits=5, name='circuit1', qreg_sizes=[['q', 5]], qubit_labels=[['q', 0], ['q', 1], ['q', 2], ['q', 3], ['q', 4]]), meas_level=2, memory=False, shots=8192, success=True), ExperimentResult(data=ExperimentResultData(counts=Obj(0x0=150, 0x1=304, 0x2=485, 0x3=7253)), header=Obj(clbit_labels=[['c', 0], ['c', 1]], creg_sizes=[['c', 2]], memory_slots=2, n_qubits=5, name='circuit2', qreg_sizes=[['q', 5]], qubit_labels=[['q', 0], ['q', 1], ['q', 2], ['q', 3], ['q', 4]]), meas_level=2, memory=False, shots=8192, success=True), ExperimentResult(data=ExperimentResultData(counts=Obj(0x0=312, 0x1=139, 0x2=7600, 0x3=141)), header=Obj(clbit_labels=[['c', 0], ['c', 1]], creg_sizes=[['c', 2]], memory_slots=2, n_qubits=5, name='circuit3', qreg_sizes=[['q', 5]], qubit_labels=[['q', 0], ['q', 1], ['q', 2], ['q', 3], ['q', 4]]), meas_level=2, memory=False, shots=8192, success=True)], status='Successful completion', success=True, time_taken=37.8363938331604), Result(backend_name='ibmq_valencia', backend_version='1.0.3', date=datetime.datetime(2019, 12, 26, 1, 21, 12, tzinfo=datetime.timezone.utc), execution_id='eb695fba-277d-11ea-8b20-ac1f6b47c318', header=Obj(backend_name='ibmq_valencia', backend_version='1.0.3'), job_id='5e04067531ea320012469ba3', qobj_id='8c89b695-c52f-4285-a7cc-6452f7eed01f', results=[ExperimentResult(data=ExperimentResultData(counts=Obj(0x0=7964, 0x1=118, 0x2=33, 0x3=77)), header=Obj(clbit_labels=[['c', 0], ['c', 1]], creg_sizes=[['c', 2]], memory_slots=2, n_qubits=5, name='circuit0', qreg_sizes=[['q', 5]], qubit_labels=[['q', 0], ['q', 1], ['q', 2], ['q', 3], ['q', 4]]), meas_level=2, memory=False, shots=8192, success=True), ExperimentResult(data=ExperimentResultData(counts=Obj(0x0=578, 0x1=7506, 0x2=86, 0x3=22)), header=Obj(clbit_labels=[['c', 0], ['c', 1]], creg_sizes=[['c', 2]], memory_slots=2, n_qubits=5, name='circuit1', qreg_sizes=[['q', 5]], qubit_labels=[['q', 0], ['q', 1], ['q', 2], ['q', 3], ['q', 4]]), meas_level=2, memory=False, shots=8192, success=True), ExperimentResult(data=ExperimentResultData(counts=Obj(0x0=181, 0x1=294, 0x2=517, 0x3=7200)), header=Obj(clbit_labels=[['c', 0], ['c', 1]], creg_sizes=[['c', 2]], memory_slots=2, n_qubits=5, name='circuit2', qreg_sizes=[['q', 5]], qubit_labels=[['q', 0], ['q', 1], ['q', 2], ['q', 3], ['q', 4]]), meas_level=2, memory=False, shots=8192, success=True), ExperimentResult(data=ExperimentResultData(counts=Obj(0x0=312, 0x1=146, 0x2=7535, 0x3=199)), header=Obj(clbit_labels=[['c', 0], ['c', 1]], creg_sizes=[['c', 2]], memory_slots=2, n_qubits=5, name='circuit3', qreg_sizes=[['q', 5]], qubit_labels=[['q', 0], ['q', 1], ['q', 2], ['q', 3], ['q', 4]]), meas_level=2, memory=False, shots=8192, success=True)], status='Successful completion', success=True, time_taken=37.4208025932312), Result(backend_name='ibmq_valencia', backend_version='1.0.3', date=datetime.datetime(2019, 12, 26, 1, 22, 37, tzinfo=datetime.timezone.utc), execution_id='1e4ff90c-277e-11ea-a8e4-ac1f6b47c318', header=Obj(backend_name='ibmq_valencia', backend_version='1.0.3'), job_id='5e04067a2b1101001312c603', qobj_id='e2db3a45-4b9c-432f-b069-2053d69912a7', results=[ExperimentResult(data=ExperimentResultData(counts=Obj(0x0=7881, 0x1=151, 0x2=60, 0x3=100)), header=Obj(clbit_labels=[['c', 0], ['c', 1]], creg_sizes=[['c', 2]], memory_slots=2, n_qubits=5, name='circuit0', qreg_sizes=[['q', 5]], qubit_labels=[['q', 0], ['q', 1], ['q', 2], ['q', 3], ['q', 4]]), meas_level=2, memory=False, shots=8192, success=True), ExperimentResult(data=ExperimentResultData(counts=Obj(0x0=390, 0x1=7637, 0x2=107, 0x3=58)), header=Obj(clbit_labels=[['c', 0], ['c', 1]], creg_sizes=[['c', 2]], memory_slots=2, n_qubits=5, name='circuit1', qreg_sizes=[['q', 5]], qubit_labels=[['q', 0], ['q', 1], ['q', 2], ['q', 3], ['q', 4]]), meas_level=2, memory=False, shots=8192, success=True), ExperimentResult(data=ExperimentResultData(counts=Obj(0x0=184, 0x1=449, 0x2=391, 0x3=7168)), header=Obj(clbit_labels=[['c', 0], ['c', 1]], creg_sizes=[['c', 2]], memory_slots=2, n_qubits=5, name='circuit2', qreg_sizes=[['q', 5]], qubit_labels=[['q', 0], ['q', 1], ['q', 2], ['q', 3], ['q', 4]]), meas_level=2, memory=False, shots=8192, success=True), ExperimentResult(data=ExperimentResultData(counts=Obj(0x0=488, 0x1=146, 0x2=7419, 0x3=139)), header=Obj(clbit_labels=[['c', 0], ['c', 1]], creg_sizes=[['c', 2]], memory_slots=2, n_qubits=5, name='circuit3', qreg_sizes=[['q', 5]], qubit_labels=[['q', 0], ['q', 1], ['q', 2], ['q', 3], ['q', 4]]), meas_level=2, memory=False, shots=8192, success=True)], status='Successful completion', success=True, time_taken=37.63773536682129)]\n",
      "[Result(backend_name='ibmq_valencia', backend_version='1.0.3', date=datetime.datetime(2019, 12, 26, 1, 13, 17, tzinfo=datetime.timezone.utc), execution_id='d08dd474-277c-11ea-ae9c-ac1f6b47c318', header=Obj(backend_name='ibmq_valencia', backend_version='1.0.3'), job_id='5e04065a58c50e0012c33e68', qobj_id='c9085138-af15-4398-9def-b45557595dcc', results=[ExperimentResult(data=ExperimentResultData(counts=Obj(0x0=7998, 0x1=132, 0x2=58, 0x3=4)), header=Obj(clbit_labels=[['c0', 0], ['c0', 1]], creg_sizes=[['c0', 2]], memory_slots=2, n_qubits=5, name='mcalcal_00', qreg_sizes=[['q', 5]], qubit_labels=[['q', 0], ['q', 1], ['q', 2], ['q', 3], ['q', 4]]), meas_level=2, memory=False, shots=8192, success=True), ExperimentResult(data=ExperimentResultData(counts=Obj(0x0=326, 0x1=7812, 0x2=2, 0x3=52)), header=Obj(clbit_labels=[['c0', 0], ['c0', 1]], creg_sizes=[['c0', 2]], memory_slots=2, n_qubits=5, name='mcalcal_01', qreg_sizes=[['q', 5]], qubit_labels=[['q', 0], ['q', 1], ['q', 2], ['q', 3], ['q', 4]]), meas_level=2, memory=False, shots=8192, success=True), ExperimentResult(data=ExperimentResultData(counts=Obj(0x0=417, 0x1=8, 0x2=7628, 0x3=139)), header=Obj(clbit_labels=[['c0', 0], ['c0', 1]], creg_sizes=[['c0', 2]], memory_slots=2, n_qubits=5, name='mcalcal_10', qreg_sizes=[['q', 5]], qubit_labels=[['q', 0], ['q', 1], ['q', 2], ['q', 3], ['q', 4]]), meas_level=2, memory=False, shots=8192, success=True), ExperimentResult(data=ExperimentResultData(counts=Obj(0x0=21, 0x1=399, 0x2=346, 0x3=7426)), header=Obj(clbit_labels=[['c0', 0], ['c0', 1]], creg_sizes=[['c0', 2]], memory_slots=2, n_qubits=5, name='mcalcal_11', qreg_sizes=[['q', 5]], qubit_labels=[['q', 0], ['q', 1], ['q', 2], ['q', 3], ['q', 4]]), meas_level=2, memory=False, shots=8192, success=True)], status='Successful completion', success=True, time_taken=37.41264009475708), Result(backend_name='ibmq_valencia', backend_version='1.0.3', date=datetime.datetime(2019, 12, 26, 1, 14, 48, tzinfo=datetime.timezone.utc), execution_id='06f79d2e-277d-11ea-8371-ac1f6b47c318', header=Obj(backend_name='ibmq_valencia', backend_version='1.0.3'), job_id='5e04065ea4bcd300114db618', qobj_id='90bf8f8d-d256-463c-9cb3-b4c6ad32c82d', results=[ExperimentResult(data=ExperimentResultData(counts=Obj(0x0=8025, 0x1=51, 0x2=115, 0x3=1)), header=Obj(clbit_labels=[['c0', 0], ['c0', 1]], creg_sizes=[['c0', 2]], memory_slots=2, n_qubits=5, name='mcalcal_00', qreg_sizes=[['q', 5]], qubit_labels=[['q', 0], ['q', 1], ['q', 2], ['q', 3], ['q', 4]]), meas_level=2, memory=False, shots=8192, success=True), ExperimentResult(data=ExperimentResultData(counts=Obj(0x0=437, 0x1=7653, 0x2=8, 0x3=94)), header=Obj(clbit_labels=[['c0', 0], ['c0', 1]], creg_sizes=[['c0', 2]], memory_slots=2, n_qubits=5, name='mcalcal_01', qreg_sizes=[['q', 5]], qubit_labels=[['q', 0], ['q', 1], ['q', 2], ['q', 3], ['q', 4]]), meas_level=2, memory=False, shots=8192, success=True), ExperimentResult(data=ExperimentResultData(counts=Obj(0x0=340, 0x2=7800, 0x3=52)), header=Obj(clbit_labels=[['c0', 0], ['c0', 1]], creg_sizes=[['c0', 2]], memory_slots=2, n_qubits=5, name='mcalcal_10', qreg_sizes=[['q', 5]], qubit_labels=[['q', 0], ['q', 1], ['q', 2], ['q', 3], ['q', 4]]), meas_level=2, memory=False, shots=8192, success=True), ExperimentResult(data=ExperimentResultData(counts=Obj(0x0=19, 0x1=319, 0x2=420, 0x3=7434)), header=Obj(clbit_labels=[['c0', 0], ['c0', 1]], creg_sizes=[['c0', 2]], memory_slots=2, n_qubits=5, name='mcalcal_11', qreg_sizes=[['q', 5]], qubit_labels=[['q', 0], ['q', 1], ['q', 2], ['q', 3], ['q', 4]]), meas_level=2, memory=False, shots=8192, success=True)], status='Successful completion', success=True, time_taken=37.21774411201477), Result(backend_name='ibmq_valencia', backend_version='1.0.3', date=datetime.datetime(2019, 12, 26, 1, 16, 13, tzinfo=datetime.timezone.utc), execution_id='39cb4408-277d-11ea-826f-ac1f6b47c318', header=Obj(backend_name='ibmq_valencia', backend_version='1.0.3'), job_id='5e0406642b1101001312c600', qobj_id='f8f397dd-7eb0-4755-b097-d6b882620f6f', results=[ExperimentResult(data=ExperimentResultData(counts=Obj(0x0=8033, 0x1=41, 0x2=118)), header=Obj(clbit_labels=[['c0', 0], ['c0', 1]], creg_sizes=[['c0', 2]], memory_slots=2, n_qubits=5, name='mcalcal_00', qreg_sizes=[['q', 5]], qubit_labels=[['q', 0], ['q', 1], ['q', 2], ['q', 3], ['q', 4]]), meas_level=2, memory=False, shots=8192, success=True), ExperimentResult(data=ExperimentResultData(counts=Obj(0x0=423, 0x1=7696, 0x2=6, 0x3=67)), header=Obj(clbit_labels=[['c0', 0], ['c0', 1]], creg_sizes=[['c0', 2]], memory_slots=2, n_qubits=5, name='mcalcal_01', qreg_sizes=[['q', 5]], qubit_labels=[['q', 0], ['q', 1], ['q', 2], ['q', 3], ['q', 4]]), meas_level=2, memory=False, shots=8192, success=True), ExperimentResult(data=ExperimentResultData(counts=Obj(0x0=543, 0x1=6, 0x2=7588, 0x3=55)), header=Obj(clbit_labels=[['c0', 0], ['c0', 1]], creg_sizes=[['c0', 2]], memory_slots=2, n_qubits=5, name='mcalcal_10', qreg_sizes=[['q', 5]], qubit_labels=[['q', 0], ['q', 1], ['q', 2], ['q', 3], ['q', 4]]), meas_level=2, memory=False, shots=8192, success=True), ExperimentResult(data=ExperimentResultData(counts=Obj(0x0=26, 0x1=569, 0x2=390, 0x3=7207)), header=Obj(clbit_labels=[['c0', 0], ['c0', 1]], creg_sizes=[['c0', 2]], memory_slots=2, n_qubits=5, name='mcalcal_11', qreg_sizes=[['q', 5]], qubit_labels=[['q', 0], ['q', 1], ['q', 2], ['q', 3], ['q', 4]]), meas_level=2, memory=False, shots=8192, success=True)], status='Successful completion', success=True, time_taken=37.040714502334595), Result(backend_name='ibmq_valencia', backend_version='1.0.3', date=datetime.datetime(2019, 12, 26, 1, 17, 39, tzinfo=datetime.timezone.utc), execution_id='6c9a8c40-277d-11ea-8738-ac1f6b47c318', header=Obj(backend_name='ibmq_valencia', backend_version='1.0.3'), job_id='5e04066931ea320012469ba2', qobj_id='45aae1f0-5ba8-423b-a000-3ef47a308766', results=[ExperimentResult(data=ExperimentResultData(counts=Obj(0x0=8013, 0x1=66, 0x2=112, 0x3=1)), header=Obj(clbit_labels=[['c0', 0], ['c0', 1]], creg_sizes=[['c0', 2]], memory_slots=2, n_qubits=5, name='mcalcal_00', qreg_sizes=[['q', 5]], qubit_labels=[['q', 0], ['q', 1], ['q', 2], ['q', 3], ['q', 4]]), meas_level=2, memory=False, shots=8192, success=True), ExperimentResult(data=ExperimentResultData(counts=Obj(0x0=423, 0x1=7668, 0x2=5, 0x3=96)), header=Obj(clbit_labels=[['c0', 0], ['c0', 1]], creg_sizes=[['c0', 2]], memory_slots=2, n_qubits=5, name='mcalcal_01', qreg_sizes=[['q', 5]], qubit_labels=[['q', 0], ['q', 1], ['q', 2], ['q', 3], ['q', 4]]), meas_level=2, memory=False, shots=8192, success=True), ExperimentResult(data=ExperimentResultData(counts=Obj(0x0=392, 0x1=3, 0x2=7720, 0x3=77)), header=Obj(clbit_labels=[['c0', 0], ['c0', 1]], creg_sizes=[['c0', 2]], memory_slots=2, n_qubits=5, name='mcalcal_10', qreg_sizes=[['q', 5]], qubit_labels=[['q', 0], ['q', 1], ['q', 2], ['q', 3], ['q', 4]]), meas_level=2, memory=False, shots=8192, success=True), ExperimentResult(data=ExperimentResultData(counts=Obj(0x0=21, 0x1=368, 0x2=412, 0x3=7391)), header=Obj(clbit_labels=[['c0', 0], ['c0', 1]], creg_sizes=[['c0', 2]], memory_slots=2, n_qubits=5, name='mcalcal_11', qreg_sizes=[['q', 5]], qubit_labels=[['q', 0], ['q', 1], ['q', 2], ['q', 3], ['q', 4]]), meas_level=2, memory=False, shots=8192, success=True)], status='Successful completion', success=True, time_taken=37.160398721694946), Result(backend_name='ibmq_valencia', backend_version='1.0.3', date=datetime.datetime(2019, 12, 26, 1, 19, 4, tzinfo=datetime.timezone.utc), execution_id='9f6e313a-277d-11ea-ba20-ac1f6b47c318', header=Obj(backend_name='ibmq_valencia', backend_version='1.0.3'), job_id='5e04066e619aa80011ca652d', qobj_id='d28cb868-a893-45c2-bb2c-e94206457482', results=[ExperimentResult(data=ExperimentResultData(counts=Obj(0x0=8057, 0x1=82, 0x2=53)), header=Obj(clbit_labels=[['c0', 0], ['c0', 1]], creg_sizes=[['c0', 2]], memory_slots=2, n_qubits=5, name='mcalcal_00', qreg_sizes=[['q', 5]], qubit_labels=[['q', 0], ['q', 1], ['q', 2], ['q', 3], ['q', 4]]), meas_level=2, memory=False, shots=8192, success=True), ExperimentResult(data=ExperimentResultData(counts=Obj(0x0=526, 0x1=7586, 0x2=15, 0x3=65)), header=Obj(clbit_labels=[['c0', 0], ['c0', 1]], creg_sizes=[['c0', 2]], memory_slots=2, n_qubits=5, name='mcalcal_01', qreg_sizes=[['q', 5]], qubit_labels=[['q', 0], ['q', 1], ['q', 2], ['q', 3], ['q', 4]]), meas_level=2, memory=False, shots=8192, success=True), ExperimentResult(data=ExperimentResultData(counts=Obj(0x0=410, 0x1=10, 0x2=7680, 0x3=92)), header=Obj(clbit_labels=[['c0', 0], ['c0', 1]], creg_sizes=[['c0', 2]], memory_slots=2, n_qubits=5, name='mcalcal_10', qreg_sizes=[['q', 5]], qubit_labels=[['q', 0], ['q', 1], ['q', 2], ['q', 3], ['q', 4]]), meas_level=2, memory=False, shots=8192, success=True), ExperimentResult(data=ExperimentResultData(counts=Obj(0x0=19, 0x1=340, 0x2=531, 0x3=7302)), header=Obj(clbit_labels=[['c0', 0], ['c0', 1]], creg_sizes=[['c0', 2]], memory_slots=2, n_qubits=5, name='mcalcal_11', qreg_sizes=[['q', 5]], qubit_labels=[['q', 0], ['q', 1], ['q', 2], ['q', 3], ['q', 4]]), meas_level=2, memory=False, shots=8192, success=True)], status='Successful completion', success=True, time_taken=37.34170627593994), Result(backend_name='ibmq_valencia', backend_version='1.0.3', date=datetime.datetime(2019, 12, 26, 1, 20, 29, tzinfo=datetime.timezone.utc), execution_id='d1e8168a-277d-11ea-8ce4-ac1f6b47c318', header=Obj(backend_name='ibmq_valencia', backend_version='1.0.3'), job_id='5e040673c3b5500011d53768', qobj_id='95699163-c5da-42ee-a99c-b5fef9c82c5d', results=[ExperimentResult(data=ExperimentResultData(counts=Obj(0x0=8041, 0x1=100, 0x2=50, 0x3=1)), header=Obj(clbit_labels=[['c0', 0], ['c0', 1]], creg_sizes=[['c0', 2]], memory_slots=2, n_qubits=5, name='mcalcal_00', qreg_sizes=[['q', 5]], qubit_labels=[['q', 0], ['q', 1], ['q', 2], ['q', 3], ['q', 4]]), meas_level=2, memory=False, shots=8192, success=True), ExperimentResult(data=ExperimentResultData(counts=Obj(0x0=347, 0x1=7786, 0x2=2, 0x3=57)), header=Obj(clbit_labels=[['c0', 0], ['c0', 1]], creg_sizes=[['c0', 2]], memory_slots=2, n_qubits=5, name='mcalcal_01', qreg_sizes=[['q', 5]], qubit_labels=[['q', 0], ['q', 1], ['q', 2], ['q', 3], ['q', 4]]), meas_level=2, memory=False, shots=8192, success=True), ExperimentResult(data=ExperimentResultData(counts=Obj(0x0=506, 0x1=8, 0x2=7600, 0x3=78)), header=Obj(clbit_labels=[['c0', 0], ['c0', 1]], creg_sizes=[['c0', 2]], memory_slots=2, n_qubits=5, name='mcalcal_10', qreg_sizes=[['q', 5]], qubit_labels=[['q', 0], ['q', 1], ['q', 2], ['q', 3], ['q', 4]]), meas_level=2, memory=False, shots=8192, success=True), ExperimentResult(data=ExperimentResultData(counts=Obj(0x0=20, 0x1=494, 0x2=329, 0x3=7349)), header=Obj(clbit_labels=[['c0', 0], ['c0', 1]], creg_sizes=[['c0', 2]], memory_slots=2, n_qubits=5, name='mcalcal_11', qreg_sizes=[['q', 5]], qubit_labels=[['q', 0], ['q', 1], ['q', 2], ['q', 3], ['q', 4]]), meas_level=2, memory=False, shots=8192, success=True)], status='Successful completion', success=True, time_taken=37.35333800315857), Result(backend_name='ibmq_valencia', backend_version='1.0.3', date=datetime.datetime(2019, 12, 26, 1, 21, 55, tzinfo=datetime.timezone.utc), execution_id='04eab11e-277e-11ea-8729-ac1f6b47c318', header=Obj(backend_name='ibmq_valencia', backend_version='1.0.3'), job_id='5e04067803bd6f001205c02c', qobj_id='a4620a61-1c9d-4cc3-aacf-af4749c1a17a', results=[ExperimentResult(data=ExperimentResultData(counts=Obj(0x0=7967, 0x1=89, 0x2=133, 0x3=3)), header=Obj(clbit_labels=[['c0', 0], ['c0', 1]], creg_sizes=[['c0', 2]], memory_slots=2, n_qubits=5, name='mcalcal_00', qreg_sizes=[['q', 5]], qubit_labels=[['q', 0], ['q', 1], ['q', 2], ['q', 3], ['q', 4]]), meas_level=2, memory=False, shots=8192, success=True), ExperimentResult(data=ExperimentResultData(counts=Obj(0x0=383, 0x1=7667, 0x2=9, 0x3=133)), header=Obj(clbit_labels=[['c0', 0], ['c0', 1]], creg_sizes=[['c0', 2]], memory_slots=2, n_qubits=5, name='mcalcal_01', qreg_sizes=[['q', 5]], qubit_labels=[['q', 0], ['q', 1], ['q', 2], ['q', 3], ['q', 4]]), meas_level=2, memory=False, shots=8192, success=True), ExperimentResult(data=ExperimentResultData(counts=Obj(0x0=525, 0x1=6, 0x2=7556, 0x3=105)), header=Obj(clbit_labels=[['c0', 0], ['c0', 1]], creg_sizes=[['c0', 2]], memory_slots=2, n_qubits=5, name='mcalcal_10', qreg_sizes=[['q', 5]], qubit_labels=[['q', 0], ['q', 1], ['q', 2], ['q', 3], ['q', 4]]), meas_level=2, memory=False, shots=8192, success=True), ExperimentResult(data=ExperimentResultData(counts=Obj(0x0=37, 0x1=471, 0x2=345, 0x3=7339)), header=Obj(clbit_labels=[['c0', 0], ['c0', 1]], creg_sizes=[['c0', 2]], memory_slots=2, n_qubits=5, name='mcalcal_11', qreg_sizes=[['q', 5]], qubit_labels=[['q', 0], ['q', 1], ['q', 2], ['q', 3], ['q', 4]]), meas_level=2, memory=False, shots=8192, success=True)], status='Successful completion', success=True, time_taken=37.67702507972717), Result(backend_name='ibmq_valencia', backend_version='1.0.3', date=datetime.datetime(2019, 12, 26, 1, 23, 20, tzinfo=datetime.timezone.utc), execution_id='37fd6a9c-277e-11ea-a7cf-ac1f6b47c318', header=Obj(backend_name='ibmq_valencia', backend_version='1.0.3'), job_id='5e04067c58c50e0012c33e6e', qobj_id='47620b35-2f35-4fa3-ba26-da6469e7b8b2', results=[ExperimentResult(data=ExperimentResultData(counts=Obj(0x0=7989, 0x1=127, 0x2=74, 0x3=2)), header=Obj(clbit_labels=[['c0', 0], ['c0', 1]], creg_sizes=[['c0', 2]], memory_slots=2, n_qubits=5, name='mcalcal_00', qreg_sizes=[['q', 5]], qubit_labels=[['q', 0], ['q', 1], ['q', 2], ['q', 3], ['q', 4]]), meas_level=2, memory=False, shots=8192, success=True), ExperimentResult(data=ExperimentResultData(counts=Obj(0x0=517, 0x1=7583, 0x2=6, 0x3=86)), header=Obj(clbit_labels=[['c0', 0], ['c0', 1]], creg_sizes=[['c0', 2]], memory_slots=2, n_qubits=5, name='mcalcal_01', qreg_sizes=[['q', 5]], qubit_labels=[['q', 0], ['q', 1], ['q', 2], ['q', 3], ['q', 4]]), meas_level=2, memory=False, shots=8192, success=True), ExperimentResult(data=ExperimentResultData(counts=Obj(0x0=410, 0x1=7, 0x2=7637, 0x3=138)), header=Obj(clbit_labels=[['c0', 0], ['c0', 1]], creg_sizes=[['c0', 2]], memory_slots=2, n_qubits=5, name='mcalcal_10', qreg_sizes=[['q', 5]], qubit_labels=[['q', 0], ['q', 1], ['q', 2], ['q', 3], ['q', 4]]), meas_level=2, memory=False, shots=8192, success=True), ExperimentResult(data=ExperimentResultData(counts=Obj(0x0=30, 0x1=373, 0x2=470, 0x3=7319)), header=Obj(clbit_labels=[['c0', 0], ['c0', 1]], creg_sizes=[['c0', 2]], memory_slots=2, n_qubits=5, name='mcalcal_11', qreg_sizes=[['q', 5]], qubit_labels=[['q', 0], ['q', 1], ['q', 2], ['q', 3], ['q', 4]]), meas_level=2, memory=False, shots=8192, success=True)], status='Successful completion', success=True, time_taken=37.232524394989014)]\n"
     ]
    }
   ],
   "source": [
    "        ## Define the list to store the result_exp for error mitigation\n",
    "result_exp_list = []\n",
    "result_cal_exp_list = []\n",
    "\n",
    "for job_id, cal_job_id in zip(job_id_list, cal_job_id_list) :\n",
    "    ## retrieve jobs\n",
    "    retrieved_job = device.retrieve_job(job_id)\n",
    "    retrieved_cal_job = device.retrieve_job(cal_job_id)\n",
    "    print(\"jobs were retrieved\")\n",
    "    result_exp = retrieved_job.result()\n",
    "    print(\"got exp result\")\n",
    "    result_cal_exp = retrieved_cal_job.result()\n",
    "    print(\"got cal_exp result\")\n",
    "    ## Append results_exp to the result_exp_list for error mitigation operation\n",
    "    result_exp_list.append(result_exp)\n",
    "    result_cal_exp_list.append(result_cal_exp)\n",
    "\n",
    "print(result_exp_list)\n",
    "print(result_cal_exp_list)"
   ]
  },
  {
   "cell_type": "markdown",
   "metadata": {},
   "source": [
    "# Readout Error mitigation"
   ]
  },
  {
   "cell_type": "code",
   "execution_count": 21,
   "metadata": {
    "scrolled": true
   },
   "outputs": [
    {
     "name": "stdout",
     "output_type": "stream",
     "text": [
      "The calibration matrix \n",
      "\n",
      "[[9.76318359e-01 3.97949219e-02 5.09033203e-02 2.56347656e-03]\n",
      " [1.61132812e-02 9.53613281e-01 9.76562500e-04 4.87060547e-02]\n",
      " [7.08007812e-03 2.44140625e-04 9.31152344e-01 4.22363281e-02]\n",
      " [4.88281250e-04 6.34765625e-03 1.69677734e-02 9.06494141e-01]]\n",
      "Plot the calibration matrix (2D color grid plot)\n",
      "\n"
     ]
    },
    {
     "data": {
      "image/png": "[encoded data removed]",
      "text/plain": [
       "<Figure size 432x288 with 2 Axes>"
      ]
     },
     "metadata": {
      "needs_background": "light"
     },
     "output_type": "display_data"
    },
    {
     "name": "stdout",
     "output_type": "stream",
     "text": [
      "Average Measurement Fidelity: 0.941895 \n",
      "\n",
      "The calibration matrix \n",
      "\n",
      "[[9.79614258e-01 5.33447266e-02 4.15039062e-02 2.31933594e-03]\n",
      " [6.22558594e-03 9.34204102e-01 0.00000000e+00 3.89404297e-02]\n",
      " [1.40380859e-02 9.76562500e-04 9.52148438e-01 5.12695312e-02]\n",
      " [1.22070312e-04 1.14746094e-02 6.34765625e-03 9.07470703e-01]]\n",
      "Plot the calibration matrix (2D color grid plot)\n",
      "\n"
     ]
    },
    {
     "data": {
      "image/png": "[encoded data removed]",
      "text/plain": [
       "<Figure size 432x288 with 2 Axes>"
      ]
     },
     "metadata": {
      "needs_background": "light"
     },
     "output_type": "display_data"
    },
    {
     "name": "stdout",
     "output_type": "stream",
     "text": [
      "Average Measurement Fidelity: 0.943359 \n",
      "\n",
      "The calibration matrix \n",
      "\n",
      "[[9.80590820e-01 5.16357422e-02 6.62841797e-02 3.17382812e-03]\n",
      " [5.00488281e-03 9.39453125e-01 7.32421875e-04 6.94580078e-02]\n",
      " [1.44042969e-02 7.32421875e-04 9.26269531e-01 4.76074219e-02]\n",
      " [0.00000000e+00 8.17871094e-03 6.71386719e-03 8.79760742e-01]]\n",
      "Plot the calibration matrix (2D color grid plot)\n",
      "\n"
     ]
    },
    {
     "data": {
      "image/png": "[encoded data removed]",
      "text/plain": [
       "<Figure size 432x288 with 2 Axes>"
      ]
     },
     "metadata": {
      "needs_background": "light"
     },
     "output_type": "display_data"
    },
    {
     "name": "stdout",
     "output_type": "stream",
     "text": [
      "Average Measurement Fidelity: 0.931519 \n",
      "\n",
      "The calibration matrix \n",
      "\n",
      "[[9.78149414e-01 5.16357422e-02 4.78515625e-02 2.56347656e-03]\n",
      " [8.05664062e-03 9.36035156e-01 3.66210938e-04 4.49218750e-02]\n",
      " [1.36718750e-02 6.10351562e-04 9.42382812e-01 5.02929688e-02]\n",
      " [1.22070312e-04 1.17187500e-02 9.39941406e-03 9.02221680e-01]]\n",
      "Plot the calibration matrix (2D color grid plot)\n",
      "\n"
     ]
    },
    {
     "data": {
      "image/png": "[encoded data removed]",
      "text/plain": [
       "<Figure size 432x288 with 2 Axes>"
      ]
     },
     "metadata": {
      "needs_background": "light"
     },
     "output_type": "display_data"
    },
    {
     "name": "stdout",
     "output_type": "stream",
     "text": [
      "Average Measurement Fidelity: 0.939697 \n",
      "\n",
      "The calibration matrix \n",
      "\n",
      "[[0.98352051 0.06420898 0.05004883 0.00231934]\n",
      " [0.01000977 0.92602539 0.0012207  0.04150391]\n",
      " [0.00646973 0.00183105 0.9375     0.06481934]\n",
      " [0.         0.00793457 0.01123047 0.89135742]]\n",
      "Plot the calibration matrix (2D color grid plot)\n",
      "\n"
     ]
    },
    {
     "data": {
      "image/png": "[encoded data removed]",
      "text/plain": [
       "<Figure size 432x288 with 2 Axes>"
      ]
     },
     "metadata": {
      "needs_background": "light"
     },
     "output_type": "display_data"
    },
    {
     "name": "stdout",
     "output_type": "stream",
     "text": [
      "Average Measurement Fidelity: 0.934601 \n",
      "\n",
      "The calibration matrix \n",
      "\n",
      "[[9.81567383e-01 4.23583984e-02 6.17675781e-02 2.44140625e-03]\n",
      " [1.22070312e-02 9.50439453e-01 9.76562500e-04 6.03027344e-02]\n",
      " [6.10351562e-03 2.44140625e-04 9.27734375e-01 4.01611328e-02]\n",
      " [1.22070312e-04 6.95800781e-03 9.52148438e-03 8.97094727e-01]]\n",
      "Plot the calibration matrix (2D color grid plot)\n",
      "\n"
     ]
    },
    {
     "data": {
      "image/png": "[encoded data removed]",
      "text/plain": [
       "<Figure size 432x288 with 2 Axes>"
      ]
     },
     "metadata": {
      "needs_background": "light"
     },
     "output_type": "display_data"
    },
    {
     "name": "stdout",
     "output_type": "stream",
     "text": [
      "Average Measurement Fidelity: 0.939209 \n",
      "\n",
      "The calibration matrix \n",
      "\n",
      "[[9.72534180e-01 4.67529297e-02 6.40869141e-02 4.51660156e-03]\n",
      " [1.08642578e-02 9.35913086e-01 7.32421875e-04 5.74951172e-02]\n",
      " [1.62353516e-02 1.09863281e-03 9.22363281e-01 4.21142578e-02]\n",
      " [3.66210938e-04 1.62353516e-02 1.28173828e-02 8.95874023e-01]]\n",
      "Plot the calibration matrix (2D color grid plot)\n",
      "\n"
     ]
    },
    {
     "data": {
      "image/png": "[encoded data removed]",
      "text/plain": [
       "<Figure size 432x288 with 2 Axes>"
      ]
     },
     "metadata": {
      "needs_background": "light"
     },
     "output_type": "display_data"
    },
    {
     "name": "stdout",
     "output_type": "stream",
     "text": [
      "Average Measurement Fidelity: 0.931671 \n",
      "\n",
      "The calibration matrix \n",
      "\n",
      "[[9.75219727e-01 6.31103516e-02 5.00488281e-02 3.66210938e-03]\n",
      " [1.55029297e-02 9.25659180e-01 8.54492188e-04 4.55322266e-02]\n",
      " [9.03320312e-03 7.32421875e-04 9.32250977e-01 5.73730469e-02]\n",
      " [2.44140625e-04 1.04980469e-02 1.68457031e-02 8.93432617e-01]]\n",
      "Plot the calibration matrix (2D color grid plot)\n",
      "\n"
     ]
    },
    {
     "data": {
      "image/png": "[encoded data removed]",
      "text/plain": [
       "<Figure size 432x288 with 2 Axes>"
      ]
     },
     "metadata": {
      "needs_background": "light"
     },
     "output_type": "display_data"
    },
    {
     "name": "stdout",
     "output_type": "stream",
     "text": [
      "Average Measurement Fidelity: 0.931641 \n",
      "\n"
     ]
    }
   ],
   "source": [
    "meas_fitter_list = []\n",
    "\n",
    "for result_cal_exp in result_cal_exp_list:\n",
    "    \n",
    "    ## define measurement fitter\n",
    "    meas_fitter = CompleteMeasFitter(result_cal_exp, state_labels)\n",
    "    meas_fitter_list.append(meas_fitter)\n",
    "    \n",
    "    print(\"The calibration matrix \\n\")\n",
    "    print(meas_fitter.cal_matrix)\n",
    "\n",
    "    ## Plot the calibration matrix\n",
    "    print(\"Plot the calibration matrix (2D color grid plot)\\n\")\n",
    "    meas_fitter.plot_calibration()\n",
    "\n",
    "    ## The measurement fidelity\n",
    "    print(\"Average Measurement Fidelity: %f\" % meas_fitter.readout_fidelity(), \"\\n\")"
   ]
  },
  {
   "cell_type": "markdown",
   "metadata": {},
   "source": [
    "### Apply device calibration parameter to mitigate the result_exp"
   ]
  },
  {
   "cell_type": "code",
   "execution_count": 22,
   "metadata": {},
   "outputs": [],
   "source": [
    "## define the list to store \n",
    "mitigated_list = []\n",
    "\n",
    "## define repeat length\n",
    "in_len = len(init_list)\n",
    "\n",
    "## repeat (num_qubits) times\n",
    "for result_exp, meas_fitter in zip(result_exp_list, meas_fitter_list):\n",
    "    \n",
    "    # Get the filter object\n",
    "    meas_filter = meas_fitter.filter\n",
    "    \n",
    "    ## get measurement error mitigated result\n",
    "    mitigated_results = meas_filter.apply(result_exp)\n",
    "    mitigated_counts = [mitigated_results.get_counts(init) for init in range(in_len)]\n",
    "\n",
    "    ## Append mitigated_counts to mitigated_list\n",
    "    mitigated_list.append(mitigated_counts)"
   ]
  },
  {
   "cell_type": "markdown",
   "metadata": {},
   "source": [
    "### Show the mitigated counts"
   ]
  },
  {
   "cell_type": "code",
   "execution_count": 23,
   "metadata": {
    "scrolled": true
   },
   "outputs": [
    {
     "name": "stdout",
     "output_type": "stream",
     "text": [
      "mitigated_list =  [[{'11': 90.00757685882105, '01': 4.726102842411706e-11, '00': 8101.992423141109, '10': 2.303363055844443e-11}, {'11': 5.484827002300019e-14, '01': 7946.564941452917, '00': 133.48531958713662, '10': 111.94973895994652}, {'11': 8081.108917953453, '00': 80.56819221159901, '10': 30.3228898379139}, {'01': 37.771827974425314, '10': 8154.228172033071}], [{'11': 25.169682806158193, '01': 87.0047048949547, '00': 8079.825612296229, '10': 2.6571989016673653e-09}, {'01': 8192.0}, {'11': 8115.560903791224, '01': 54.5853921570706, '00': 21.853704051640925, '10': 6.46382464629283e-11}, {'11': 134.52575523097627, '01': 45.28490069476886, '00': 73.26990387041243, '10': 7938.919440203843}], [{'11': 20.366110578085486, '01': 92.11691443696652, '00': 8079.516974986761}, {'11': 2.5408860779285725e-11, '01': 7989.210887685069, '00': 162.63489756656162, '10': 40.15421474834448}, {'11': 8078.9494730327815, '00': 2.871832549544706e-09, '10': 113.05052697372177}, {'11': 87.37502658250236, '01': 3.890245558002847e-09, '10': 8104.624973426832}], [{'11': 80.69334765694829, '01': 59.16069028583604, '00': 8052.145962056932, '10': 2.823677654542611e-10}, {'11': 8.090216010210623e-10, '01': 8142.288825482942, '10': 49.711174516396994}, {'11': 8150.821181508092, '01': 9.761968874545945, '00': 31.41684961736368}, {'11': 129.18502148977583, '01': 54.35523738442164, '00': 50.13970110706267, '10': 7958.320040018739}], [{'11': 102.86466446460304, '00': 8077.145085178422, '10': 11.99025035697691}, {'01': 8144.773832491706, '00': 2.2453151761910867e-10, '10': 47.22616750809195}, {'11': 8017.571165656748, '01': 104.8136753027898, '00': 69.61515904134306}, {'01': 94.29352089766905, '00': 111.2771705911308, '10': 7986.429308511199}], [{'11': 115.64165899733149, '01': 1.8831047832179593e-12, '00': 8076.358341002674}, {'11': 1.1654620844792074e-11, '01': 7894.207042990937, '00': 179.04233357103223, '10': 118.75062343801928}, {'11': 8006.315612865686, '00': 67.76340461566862, '10': 117.92098252858095}, {'11': 9.956587609865908, '01': 67.66752604083703, '00': 7.40652927143201e-18, '10': 8114.375886354534}], [{'11': 39.00252693089291, '01': 7.630296394722791e-11, '00': 8152.997473069261}, {'11': 1.0069074350346763e-10, '01': 7978.373564623678, '00': 172.54270222506864, '10': 41.08373315115358}, {'11': 7963.989620936373, '00': 86.26851639385565, '10': 141.74186266984486}, {'11': 39.51553067547992, '01': 69.61155387914455, '10': 8082.872915456683}], [{'11': 101.43239575334486, '01': 16.817838935960186, '00': 8073.7497653106875, '10': 7.118718971504262e-12}, {'11': 7.792890092316737e-10, '01': 8165.523137071047, '00': 7.96441450235856e-09, '10': 26.4768629202095}, {'11': 7992.493668467058, '01': 67.33523345327477, '00': 132.17109807934617, '10': 3.204441464781105e-10}, {'11': 3.778912365007606, '01': 148.8143145351849, '00': 82.39726272517821, '10': 7957.00951037463}]] \n",
      "\n"
     ]
    }
   ],
   "source": [
    "print(\"mitigated_list = \", mitigated_list, \"\\n\")"
   ]
  },
  {
   "cell_type": "markdown",
   "metadata": {},
   "source": [
    "### post data processing"
   ]
  },
  {
   "cell_type": "code",
   "execution_count": 24,
   "metadata": {},
   "outputs": [],
   "source": [
    "## define length of repeat\n",
    "input_len = len(mitigated_list)\n",
    "output_bin = [format(num, '02b') for num in range(4)]\n",
    "\n",
    "mit_data = [[[(mitigated_list[mapping][inputvalue].get(outputvalue, 0))/shots for outputvalue in output_bin] for inputvalue in range(4)] for mapping in range(len(job_id_list))]"
   ]
  },
  {
   "cell_type": "code",
   "execution_count": 25,
   "metadata": {
    "scrolled": true
   },
   "outputs": [
    {
     "name": "stdout",
     "output_type": "stream",
     "text": [
      "mit_data =  [[[0.9890127469654674, 5.769168508803352e-15, 2.811722480278861e-15, 0.010987253034524054], [0.016294594676164138, 0.9700396657047018, 0.013665739619134096, 6.695345461792015e-18], [0.009834984400829958, 0.0, 0.003701524638417224, 0.9864634909611149], [0.0, 0.00461081884453434, 0.9953891811563808, 0.0]], [[0.9863068374385046, 0.0106206915154974, 3.2436510030119205e-13, 0.0030724710456736075], [0.0, 1.0, 0.0, 0.0], [0.002667688482866324, 0.006663255878548657, 7.890410945181677e-15, 0.9906690556385771], [0.008944080062306205, 0.005527941979341902, 0.9691063769780082, 0.016421600980343783]], [[0.9862691619856886, 0.011244740531856265, 0.0, 0.002486097482676451], [0.019852892769355666, 0.9752454696881188, 0.0049016375425225195, 3.101667575596402e-15], [3.50565496770594e-13, 0.0, 0.013800113155971896, 0.986199886844822], [0.0, 4.748834909671444e-13, 0.9893341032015176, 0.01066589679962187]], [[0.9829279738839029, 0.00722176395090772, 3.446872136892836e-14, 0.00985026216515482], [0.0, 0.9939317413919607, 0.0060682586079586175, 9.875751965589139e-14], [0.00383506465055709, 0.0011916465911310967, 0.0, 0.994973288758312], [0.006120568982795736, 0.0066351608135280325, 0.9714746142601, 0.01576965594357615]], [[0.9859796246555691, 0.0, 0.001463653608029408, 0.012556721736401738], [2.740863252186385e-14, 0.9942350869740852, 0.00576491302589013, 0.0], [0.008497944218913948, 0.012794638098485083, 0.0, 0.9787074176827085], [0.013583638988175146, 0.011510439562703742, 0.974905921449121, 0.0]], [[0.985883586548178, 2.2987118935766104e-16, 0.0, 0.014116413451822692], [0.021855753609745145, 0.9636483206776046, 0.014495925712648837, 1.4226832085927825e-15], [0.00827189997749861, 0.0, 0.014394651187570917, 0.9773334488361433], [9.041173427041028e-22, 0.008260196049906864, 0.9905244001897624, 0.0012154037609699595]], [[0.995238949349275, 9.314326653714344e-15, 0.0, 0.004761050650743764], [0.021062341580208574, 0.9739225542753513, 0.005015104144427927, 1.2291350525325638e-14], [0.010530824755109332, 0.0, 0.017302473470440047, 0.9721667017744596], [0.0, 0.008497504135637763, 0.9866788226875833, 0.00482367317815917]], [[0.9855651568982773, 0.0020529588544873274, 8.689842494512039e-16, 0.01238188424723448], [9.722185671824415e-13, 0.9967679610682431, 0.003232038930689636, 9.51280528847258e-14], [0.016134167246013936, 0.008219632989901705, 3.911671709937872e-14, 0.9756461997640452], [0.010058259610007106, 0.018165809879783314, 0.971314637496903, 0.0004612930133065925]]] \n",
      "\n"
     ]
    }
   ],
   "source": [
    "print(\"mit_data = \",mit_data, \"\\n\")"
   ]
  },
  {
   "cell_type": "code",
   "execution_count": 26,
   "metadata": {},
   "outputs": [],
   "source": [
    "def two_matrices_mean(matrix1, matrix2):\n",
    "    mean = [[(col_0+col_1)/2 for col_0, col_1 in zip(row_0, row_1)] for row_0, row_1 in zip(matrix1, matrix2)]\n",
    "    return mean\n",
    "\n",
    "def matrices_mean(array):\n",
    "    mat = array[0]\n",
    "    len_mat = len(array)\n",
    "    for i in range(1, len_mat):\n",
    "        res = two_matrices_mean(mat, array[i])\n",
    "        mat = res\n",
    "    return mat"
   ]
  },
  {
   "cell_type": "code",
   "execution_count": 27,
   "metadata": {},
   "outputs": [],
   "source": [
    "mit_mean = matrices_mean(mit_data)"
   ]
  },
  {
   "cell_type": "code",
   "execution_count": 28,
   "metadata": {},
   "outputs": [
    {
     "name": "stdout",
     "output_type": "stream",
     "text": [
      "mit_mean =  [[0.9880106297390071, 0.0015108327739870098, 9.14783505059057e-05, 0.010387059136510578], [0.008435057567186823, 0.9861498643942339, 0.005415078038526144, 5.394938782727013e-14], [0.012482421724893014, 0.004998777018630178, 0.006369494695375692, 0.9761493065612823], [0.006139250647963633, 0.013245765797075143, 0.9782387431407145, 0.002376240414704116]]\n"
     ]
    }
   ],
   "source": [
    "print(\"mit_mean = \", mit_mean)"
   ]
  },
  {
   "cell_type": "markdown",
   "metadata": {},
   "source": [
    "### Plot the output matrix"
   ]
  },
  {
   "cell_type": "code",
   "execution_count": 29,
   "metadata": {},
   "outputs": [
    {
     "name": "stdout",
     "output_type": "stream",
     "text": [
      "########################## Toffoli_SWAP ############################\n"
     ]
    },
    {
     "data": {
      "image/png": "[encoded data removed]",
      "text/plain": [
       "<Figure size 648x432 with 2 Axes>"
      ]
     },
     "metadata": {
      "needs_background": "light"
     },
     "output_type": "display_data"
    }
   ],
   "source": [
    "print(\"########################## Toffoli_SWAP ############################\")\n",
    "\n",
    "## axix range and data labels\n",
    "### axix range\n",
    "length=[num+0.5 for num in range(4)]\n",
    "### labels \n",
    "X = [format(num, \"02b\") for num in range(4)]\n",
    "Y = X\n",
    "#######################################################################\n",
    "## set size\n",
    "fig,ax = plt.subplots(figsize=(9, 6))\n",
    "## title\n",
    "plt.title(\"CX on \"+str(device)+\"\\n\", \n",
    "          fontsize=20\n",
    "         )\n",
    "\n",
    "## plot data\n",
    "sns.heatmap(mit_mean, \n",
    "            vmin = 0.0,  ## define maximum value\n",
    "            vmax=1.0,   ## defnie minimum value\n",
    "            annot=True, ## show the numerical data\n",
    "            square=True,  ## set heatmap to square shape\n",
    "            cmap=plt.get_cmap('Blues') ## define the color\n",
    "           )\n",
    "\n",
    "## axis\n",
    "plt.xticks(length, \n",
    "           X, \n",
    "           rotation=90, \n",
    "           fontsize=15\n",
    "          )\n",
    "plt.yticks(length, \n",
    "           Y, \n",
    "           rotation=0, \n",
    "           fontsize=15)\n",
    "\n",
    "plt.show()"
   ]
  },
  {
   "cell_type": "markdown",
   "metadata": {},
   "source": [
    "---\n",
    "# Check Fidelity"
   ]
  },
  {
   "cell_type": "code",
   "execution_count": 30,
   "metadata": {},
   "outputs": [],
   "source": [
    "dens_exp_cx = [[col/4 for col in row] for row in mit_mean]\n",
    "dens_sim_cx = [[col/4 for col in row] for row in sim_data]"
   ]
  },
  {
   "cell_type": "code",
   "execution_count": 31,
   "metadata": {},
   "outputs": [
    {
     "name": "stdout",
     "output_type": "stream",
     "text": [
      "F_cx =  0.9910250586754628 \n",
      "\n"
     ]
    }
   ],
   "source": [
    "F_cx = np.trace(np.sqrt(np.dot(dens_exp_cx, dens_sim_cx)))\n",
    "print(\"F_cx = \", F_cx, \"\\n\")"
   ]
  },
  {
   "cell_type": "code",
   "execution_count": null,
   "metadata": {},
   "outputs": [],
   "source": []
  }
 ],
 "metadata": {
  "kernelspec": {
   "display_name": "Python 3",
   "language": "python",
   "name": "python3"
  },
  "language_info": {
   "codemirror_mode": {
    "name": "ipython",
    "version": 3
   },
   "file_extension": ".py",
   "mimetype": "text/x-python",
   "name": "python",
   "nbconvert_exporter": "python",
   "pygments_lexer": "ipython3",
   "version": "3.7.1"
  }
 },
 "nbformat": 4,
 "nbformat_minor": 2
}
